{
 "cells": [
  {
   "cell_type": "markdown",
   "metadata": {
    "colab_type": "text",
    "id": "SEHO-jaFj9Zm"
   },
   "source": [
    "> ### EEE4423: Deep Learning Lab\n",
    "\n",
    "# LAB \\#3: CNN: VGG Net and ResNet"
   ]
  },
  {
   "cell_type": "code",
   "execution_count": 1,
   "metadata": {
    "colab": {
     "base_uri": "https://localhost:8080/",
     "height": 35
    },
    "colab_type": "code",
    "execution": {
     "iopub.execute_input": "2022-03-24T01:07:05.211997Z",
     "iopub.status.busy": "2022-03-24T01:07:05.211384Z",
     "iopub.status.idle": "2022-03-24T01:07:05.234156Z",
     "shell.execute_reply": "2022-03-24T01:07:05.232690Z",
     "shell.execute_reply.started": "2022-03-24T01:07:05.211869Z"
    },
    "executionInfo": {
     "elapsed": 2025,
     "status": "ok",
     "timestamp": 1549956458995,
     "user": {
      "displayName": "­이중협(대학원/일반대학원 전기전자공학과)",
      "photoUrl": "",
      "userId": "06027175232332113122"
     },
     "user_tz": -540
    },
    "id": "VL1pbTi2j9Zr",
    "outputId": "44f34919-fa8e-4157-bfe5-1d84ace1321c",
    "tags": []
   },
   "outputs": [
    {
     "name": "stdout",
     "output_type": "stream",
     "text": [
      "This code is written at 2022-03-24 01:07:05.226248\n"
     ]
    }
   ],
   "source": [
    "import datetime\n",
    "print(\"This code is written at \" + str(datetime.datetime.now()))"
   ]
  },
  {
   "cell_type": "markdown",
   "metadata": {
    "colab_type": "text",
    "id": "VpPLjwr8j9Zw"
   },
   "source": [
    "## 1. VGGNet with PyTorch"
   ]
  },
  {
   "cell_type": "markdown",
   "metadata": {
    "colab_type": "text",
    "id": "IWeEYLiSj9Zx"
   },
   "source": [
    "### Implementing VGGNet\n",
    "\n",
    "> 1. **Dataset**\n",
    ">> - Images from the first three categories in CIFAR-10. (Due to the computational constraints.)  <br>\n",
    "     Three categories : plane, car, bird  /  The number of training images : 15,000   /  The number of test images : 3,000\n",
    ">> - Augmented with flipping and random cropping.\n",
    ">\n",
    "> 2. **Network architecture**\n",
    ">> - Type-D configuration in the paper (+ 3-way classifier after convolutional layers).\n",
    ">> - ReLU activation.\n",
    ">> - No dropout for simplicity.\n",
    ">> - We will apply **batch-normalization** after every convolution which is not used in the paper (otherwise, hard to optimize).\n",
    ">>\n",
    ">> <table><tr>\n",
    ">> <td> <img src=\"http://drive.google.com/uc?export=view&id=1jn7ICUJAcTF3WQ1XuUffOdmprgj4u1c3\" alt=\"no_image\" style=\"width: 550px;\"/> </td>\n",
    ">> <td> <img src=\"http://drive.google.com/uc?export=view&id=1Rz0iWW6VoLD_XGdRa3ofYyhCTTb6kR_k\" alt=\"no_image\" style=\"width: 250px;\"/> </td>\n",
    ">> </tr></table>\n",
    ">>\n",
    ">> <font size=\"0.5\"> Figure from <br>\n",
    ">> [1] https://www.quora.com/What-is-the-VGG-neural-network </font>\n",
    ">\n",
    "> 3. **Loss function**\n",
    ">> - Cross-entropy loss between outputs & ground-truths. <br>\n",
    "     Note that `nn.CrossEntroyLoss` takes logits before softmax as network outputs and scalar index (not one-hot vector) as ground-truths.<br>\n",
    "     See https://pytorch.org/docs/stable/nn.html#crossentropyloss for details.\n",
    ">\n",
    "> 4. **Training**\n",
    ">> - Default weight initialization for simplicity.\n",
    ">> - SGD optimizer with `learning rate = 1e-2`, `momentum = 0.9`, and `weight_decay = 5e-4`.\n",
    ">> - 20 epochs without learning rate scheduling.\n",
    ">\n",
    "> 5. **Evaluation metric**\n",
    ">> - Classification accuracy (i.e., the percentage of correct predictions).\n",
    ">\n",
    "> "
   ]
  },
  {
   "cell_type": "code",
   "execution_count": 2,
   "metadata": {
    "colab": {},
    "colab_type": "code",
    "execution": {
     "iopub.execute_input": "2022-03-24T01:07:05.236337Z",
     "iopub.status.busy": "2022-03-24T01:07:05.235937Z",
     "iopub.status.idle": "2022-03-24T01:07:06.246445Z",
     "shell.execute_reply": "2022-03-24T01:07:06.245490Z",
     "shell.execute_reply.started": "2022-03-24T01:07:05.236302Z"
    },
    "id": "LGgir5u7j9Zy",
    "tags": []
   },
   "outputs": [],
   "source": [
    "import torch\n",
    "import torch.nn as nn\n",
    "import torch.optim as optim\n",
    "import torch.nn.functional as F\n",
    "import torchvision.transforms as transforms\n",
    "import torchvision.datasets as dsets \n",
    "import torchvision\n",
    "import time\n",
    "import os\n",
    "\n",
    "# os.environ[\"CUDA_VISIBLE_DEVICES\"]=\"0\""
   ]
  },
  {
   "cell_type": "code",
   "execution_count": 3,
   "metadata": {
    "colab": {
     "base_uri": "https://localhost:8080/",
     "height": 53
    },
    "colab_type": "code",
    "execution": {
     "iopub.execute_input": "2022-03-24T01:07:06.247793Z",
     "iopub.status.busy": "2022-03-24T01:07:06.247627Z",
     "iopub.status.idle": "2022-03-24T01:07:07.748043Z",
     "shell.execute_reply": "2022-03-24T01:07:07.746730Z",
     "shell.execute_reply.started": "2022-03-24T01:07:06.247773Z"
    },
    "executionInfo": {
     "elapsed": 46373,
     "status": "ok",
     "timestamp": 1549956503374,
     "user": {
      "displayName": "­이중협(대학원/일반대학원 전기전자공학과)",
      "photoUrl": "",
      "userId": "06027175232332113122"
     },
     "user_tz": -540
    },
    "id": "OwvpXFuaj9Z0",
    "outputId": "0943c291-534d-4930-e426-a650e204cdba",
    "tags": []
   },
   "outputs": [
    {
     "name": "stdout",
     "output_type": "stream",
     "text": [
      "STEP 1: LOADING DATASET\n",
      "Files already downloaded and verified\n"
     ]
    }
   ],
   "source": [
    "print('STEP 1: LOADING DATASET')\n",
    "\n",
    "transform_train = transforms.Compose([\n",
    "    transforms.RandomCrop(32, padding=4),\n",
    "    transforms.RandomHorizontalFlip(),\n",
    "    transforms.ToTensor(),\n",
    "    transforms.Normalize((0.4914, 0.4822, 0.4465), (0.2023, 0.1994, 0.2010)),\n",
    "])\n",
    "\n",
    "transform_test = transforms.Compose([\n",
    "    transforms.ToTensor(),\n",
    "    transforms.Normalize((0.4914, 0.4822, 0.4465), (0.2023, 0.1994, 0.2010)),\n",
    "])\n",
    "\n",
    "train_dataset = dsets.CIFAR10(root='../dataset/lab03', \n",
    "                            train=True, \n",
    "                            transform=transform_train,\n",
    "                            download=True)\n",
    "\n",
    "test_dataset = dsets.CIFAR10(root='../dataset/lab03', \n",
    "                           train=False, \n",
    "                           transform=transform_test)"
   ]
  },
  {
   "cell_type": "code",
   "execution_count": 4,
   "metadata": {
    "colab": {},
    "colab_type": "code",
    "execution": {
     "iopub.execute_input": "2022-03-24T01:07:07.750068Z",
     "iopub.status.busy": "2022-03-24T01:07:07.749713Z",
     "iopub.status.idle": "2022-03-24T01:07:21.851473Z",
     "shell.execute_reply": "2022-03-24T01:07:21.850239Z",
     "shell.execute_reply.started": "2022-03-24T01:07:07.750043Z"
    },
    "id": "DrK0ZHmLj9Z4",
    "tags": []
   },
   "outputs": [],
   "source": [
    "# reducing the dataset\n",
    "reduced_train_dataset = []\n",
    "for images, labels in train_dataset:\n",
    "    if labels < 3:\n",
    "        reduced_train_dataset.append((images, labels))\n",
    "        \n",
    "reduced_test_dataset = []\n",
    "for images, labels in test_dataset:\n",
    "    if labels < 3:\n",
    "        reduced_test_dataset.append((images, labels))"
   ]
  },
  {
   "cell_type": "code",
   "execution_count": 5,
   "metadata": {
    "colab": {
     "base_uri": "https://localhost:8080/",
     "height": 53
    },
    "colab_type": "code",
    "execution": {
     "iopub.execute_input": "2022-03-24T01:07:21.854535Z",
     "iopub.status.busy": "2022-03-24T01:07:21.854218Z",
     "iopub.status.idle": "2022-03-24T01:07:21.861078Z",
     "shell.execute_reply": "2022-03-24T01:07:21.860059Z",
     "shell.execute_reply.started": "2022-03-24T01:07:21.854496Z"
    },
    "executionInfo": {
     "elapsed": 63102,
     "status": "ok",
     "timestamp": 1549956520111,
     "user": {
      "displayName": "­이중협(대학원/일반대학원 전기전자공학과)",
      "photoUrl": "",
      "userId": "06027175232332113122"
     },
     "user_tz": -540
    },
    "id": "LWnYJ2cwj9Z6",
    "outputId": "eadaf55c-432b-4956-d36e-2e1064f10a62"
   },
   "outputs": [
    {
     "name": "stdout",
     "output_type": "stream",
     "text": [
      "The number of training images :  15000\n",
      "The number of test images :  3000\n"
     ]
    }
   ],
   "source": [
    "print(\"The number of training images : \", len(reduced_train_dataset))\n",
    "print(\"The number of test images : \", len(reduced_test_dataset))"
   ]
  },
  {
   "cell_type": "code",
   "execution_count": 6,
   "metadata": {
    "colab": {
     "base_uri": "https://localhost:8080/",
     "height": 35
    },
    "colab_type": "code",
    "execution": {
     "iopub.execute_input": "2022-03-24T01:07:21.862709Z",
     "iopub.status.busy": "2022-03-24T01:07:21.862267Z",
     "iopub.status.idle": "2022-03-24T01:07:21.870599Z",
     "shell.execute_reply": "2022-03-24T01:07:21.869588Z",
     "shell.execute_reply.started": "2022-03-24T01:07:21.862677Z"
    },
    "executionInfo": {
     "elapsed": 63097,
     "status": "ok",
     "timestamp": 1549956520112,
     "user": {
      "displayName": "­이중협(대학원/일반대학원 전기전자공학과)",
      "photoUrl": "",
      "userId": "06027175232332113122"
     },
     "user_tz": -540
    },
    "id": "WFq0isyCj9Z-",
    "outputId": "0a486f6b-d1b2-4475-c20b-83fe0ac90fa0"
   },
   "outputs": [
    {
     "name": "stdout",
     "output_type": "stream",
     "text": [
      "STEP 2: MAKING DATASET ITERABLE\n"
     ]
    }
   ],
   "source": [
    "print('STEP 2: MAKING DATASET ITERABLE')\n",
    "\n",
    "train_loader = torch.utils.data.DataLoader(dataset=reduced_train_dataset, \n",
    "                                           batch_size=128, \n",
    "                                           shuffle=True)\n",
    "\n",
    "test_loader = torch.utils.data.DataLoader(dataset=reduced_test_dataset, \n",
    "                                          batch_size=100, \n",
    "                                          shuffle=False)\n",
    "\n",
    "class_names = ('plane', 'car', 'bird', 'cat', 'deer', 'dog', 'frog', 'horse', 'ship', 'truck')"
   ]
  },
  {
   "cell_type": "markdown",
   "metadata": {
    "colab_type": "text",
    "id": "Wy7GW1lkj9aB"
   },
   "source": [
    "### Visualize a few images"
   ]
  },
  {
   "cell_type": "code",
   "execution_count": 7,
   "metadata": {
    "colab": {},
    "colab_type": "code",
    "execution": {
     "iopub.execute_input": "2022-03-24T01:07:21.871983Z",
     "iopub.status.busy": "2022-03-24T01:07:21.871737Z",
     "iopub.status.idle": "2022-03-24T01:07:22.422917Z",
     "shell.execute_reply": "2022-03-24T01:07:22.422114Z",
     "shell.execute_reply.started": "2022-03-24T01:07:21.871954Z"
    },
    "id": "tJGv35Alj9aC"
   },
   "outputs": [],
   "source": [
    "import matplotlib.pyplot as plt\n",
    "%matplotlib inline  \n",
    "import numpy as np"
   ]
  },
  {
   "cell_type": "code",
   "execution_count": 8,
   "metadata": {
    "colab": {},
    "colab_type": "code",
    "execution": {
     "iopub.execute_input": "2022-03-24T01:07:22.424200Z",
     "iopub.status.busy": "2022-03-24T01:07:22.423914Z",
     "iopub.status.idle": "2022-03-24T01:07:22.429170Z",
     "shell.execute_reply": "2022-03-24T01:07:22.428524Z",
     "shell.execute_reply.started": "2022-03-24T01:07:22.424179Z"
    },
    "id": "3PYou4Cuj9aE"
   },
   "outputs": [],
   "source": [
    "def imshow(inp, title=None):\n",
    "    \"\"\"Imshow for Tensor.\"\"\"\n",
    "    inp = inp.numpy().transpose((1, 2, 0))\n",
    "    mean = np.array([0.4914, 0.4822, 0.4465])\n",
    "    std = np.array([0.2023, 0.1994, 0.2010])\n",
    "    inp = std * inp + mean\n",
    "    inp = np.clip(inp, 0, 1)\n",
    "    plt.imshow(inp)\n",
    "    if title is not None:\n",
    "        plt.title(title)\n",
    "    plt.pause(0.001)  # pause a bit so that plots are updated"
   ]
  },
  {
   "cell_type": "code",
   "execution_count": 9,
   "metadata": {
    "colab": {
     "base_uri": "https://localhost:8080/",
     "height": 150
    },
    "colab_type": "code",
    "execution": {
     "iopub.execute_input": "2022-03-24T01:07:22.430427Z",
     "iopub.status.busy": "2022-03-24T01:07:22.430178Z",
     "iopub.status.idle": "2022-03-24T01:07:22.630345Z",
     "shell.execute_reply": "2022-03-24T01:07:22.629637Z",
     "shell.execute_reply.started": "2022-03-24T01:07:22.430409Z"
    },
    "executionInfo": {
     "elapsed": 63086,
     "status": "ok",
     "timestamp": 1549956520118,
     "user": {
      "displayName": "­이중협(대학원/일반대학원 전기전자공학과)",
      "photoUrl": "",
      "userId": "06027175232332113122"
     },
     "user_tz": -540
    },
    "id": "jX59AE2pj9aH",
    "outputId": "795d995f-84c7-4cde-9524-95a3e78ccc6f"
   },
   "outputs": [
    {
     "data": {
      "image/png": "[encoded data removed]",
      "text/plain": [
       "<Figure size 432x288 with 1 Axes>"
      ]
     },
     "metadata": {
      "needs_background": "light"
     },
     "output_type": "display_data"
    }
   ],
   "source": [
    "train_loader_sample = torch.utils.data.DataLoader(dataset=reduced_train_dataset, \n",
    "                                           batch_size=4, \n",
    "                                           shuffle=True)\n",
    "\n",
    "# Get a batch of training data\n",
    "inputs, classes = next(iter(train_loader_sample))\n",
    "\n",
    "# Make a grid from batch\n",
    "out = torchvision.utils.make_grid(inputs)\n",
    "\n",
    "imshow(out, title=[class_names[x] for x in classes])"
   ]
  },
  {
   "cell_type": "markdown",
   "metadata": {
    "colab_type": "text",
    "id": "hzbc_fTrj9aM"
   },
   "source": [
    "### 1.1 Write code (VGG 16) [3 points]"
   ]
  },
  {
   "cell_type": "code",
   "execution_count": 10,
   "metadata": {
    "colab": {
     "base_uri": "https://localhost:8080/",
     "height": 35
    },
    "colab_type": "code",
    "execution": {
     "iopub.execute_input": "2022-03-24T01:07:22.631964Z",
     "iopub.status.busy": "2022-03-24T01:07:22.631630Z",
     "iopub.status.idle": "2022-03-24T01:07:22.650759Z",
     "shell.execute_reply": "2022-03-24T01:07:22.649992Z",
     "shell.execute_reply.started": "2022-03-24T01:07:22.631939Z"
    },
    "executionInfo": {
     "elapsed": 63079,
     "status": "ok",
     "timestamp": 1549956520118,
     "user": {
      "displayName": "­이중협(대학원/일반대학원 전기전자공학과)",
      "photoUrl": "",
      "userId": "06027175232332113122"
     },
     "user_tz": -540
    },
    "id": "gjeNHb89j9aN",
    "outputId": "06f21fc1-d7d7-427a-d45d-f3118f915914",
    "tags": []
   },
   "outputs": [
    {
     "name": "stdout",
     "output_type": "stream",
     "text": [
      "STEP 3: CREATE MODEL CLASS (VGG16)\n",
      "STEP 3: CREATE MODEL CLASS (VGG16)\n"
     ]
    }
   ],
   "source": [
    "print('STEP 3: CREATE MODEL CLASS (VGG16)')\n",
    "\n",
    "print('STEP 3: CREATE MODEL CLASS (VGG16)')\n",
    "# ReLU activation\n",
    "# batch-normalization after every convolution\n",
    "\n",
    "class VGG(nn.Module):\n",
    "  def __init__(self):\n",
    "    super(VGG, self).__init__()\n",
    "    \n",
    "    self.features = nn.Sequential(\n",
    "        # Convolution 1-1\n",
    "        nn.Conv2d(in_channels=3, out_channels=64, kernel_size=3, stride=1, padding=1),\n",
    "        nn.BatchNorm2d(64),\n",
    "        nn.ReLU(),\n",
    "        # Convolution 1-2\n",
    "        nn.Conv2d(in_channels=64, out_channels=64, kernel_size=3, stride=1, padding=1),\n",
    "        nn.BatchNorm2d(64),\n",
    "        nn.ReLU(),\n",
    "        # Max pool 1\n",
    "        nn.MaxPool2d(kernel_size=2),\n",
    "\n",
    "        # Convolution 2-1\n",
    "        nn.Conv2d(in_channels=64, out_channels=128, kernel_size=3, stride=1, padding=1),\n",
    "        nn.BatchNorm2d(128),\n",
    "        nn.ReLU(),\n",
    "        # Convolution 2-2\n",
    "        nn.Conv2d(in_channels=128, out_channels=128, kernel_size=3, stride=1, padding=1),\n",
    "        nn.BatchNorm2d(128),\n",
    "        nn.ReLU(),\n",
    "        # Max pool 2\n",
    "        nn.MaxPool2d(kernel_size=2),\n",
    "\n",
    "        # Convolution 3-1\n",
    "        nn.Conv2d(in_channels=128, out_channels=256, kernel_size=3, stride=1, padding=1),\n",
    "        nn.BatchNorm2d(256),\n",
    "        nn.ReLU(),\n",
    "        # Convolution 3-2\n",
    "        nn.Conv2d(in_channels=256, out_channels=256, kernel_size=3, stride=1, padding=1),\n",
    "        nn.BatchNorm2d(256),\n",
    "        nn.ReLU(),\n",
    "        # Convolution 3-3\n",
    "        nn.Conv2d(in_channels=256, out_channels=256, kernel_size=3, stride=1, padding=1),\n",
    "        nn.BatchNorm2d(256),\n",
    "        nn.ReLU(),\n",
    "        # Max pool 3\n",
    "        nn.MaxPool2d(kernel_size=2),\n",
    "\n",
    "        # Convolution 4-1\n",
    "        nn.Conv2d(in_channels=256, out_channels=512, kernel_size=3, stride=1, padding=1),\n",
    "        nn.BatchNorm2d(512),\n",
    "        nn.ReLU(),\n",
    "        # Convolution 4-2\n",
    "        nn.Conv2d(in_channels=512, out_channels=512, kernel_size=3, stride=1, padding=1),\n",
    "        nn.BatchNorm2d(512),\n",
    "        nn.ReLU(),\n",
    "        # Convolution 4-3\n",
    "        nn.Conv2d(in_channels=512, out_channels=512, kernel_size=3, stride=1, padding=1),\n",
    "        nn.BatchNorm2d(512),\n",
    "        nn.ReLU(),\n",
    "        # Max pool 4\n",
    "        nn.MaxPool2d(kernel_size=2),\n",
    "\n",
    "        # Convolution 5-1\n",
    "        nn.Conv2d(in_channels=512, out_channels=512, kernel_size=3, stride=1, padding=1),\n",
    "        nn.BatchNorm2d(512),\n",
    "        nn.ReLU(),\n",
    "        # Convolution 5-2\n",
    "        nn.Conv2d(in_channels=512, out_channels=512, kernel_size=3, stride=1, padding=1),\n",
    "        nn.BatchNorm2d(512),\n",
    "        nn.ReLU(),\n",
    "        # Convolution 5-3\n",
    "        nn.Conv2d(in_channels=512, out_channels=512, kernel_size=3, stride=1, padding=1),\n",
    "        nn.BatchNorm2d(512),\n",
    "        nn.ReLU(),\n",
    "        # Max pool 5\n",
    "        nn.MaxPool2d(kernel_size=2)\n",
    "    )\n",
    "    # Fully connected (readout)\n",
    "    self.fc1 = nn.Sequential(\n",
    "            nn.Linear(512 * 1 * 1, 4096),\n",
    "            nn.ReLU(),\n",
    "            nn.Linear(4096, 4096),\n",
    "            nn.ReLU(),\n",
    "            nn.Linear(4096, 3)\n",
    "        )\n",
    "\n",
    "\n",
    "  def forward(self, x):\n",
    "    features = self.features(x)\n",
    "    out = features.view(features.size(0), -1)\n",
    "    out = self.fc1(out)\n",
    "\n",
    "    return out\n"
   ]
  },
  {
   "cell_type": "code",
   "execution_count": 11,
   "metadata": {
    "colab": {
     "base_uri": "https://localhost:8080/",
     "height": 935
    },
    "colab_type": "code",
    "execution": {
     "iopub.execute_input": "2022-03-24T01:07:22.651909Z",
     "iopub.status.busy": "2022-03-24T01:07:22.651640Z",
     "iopub.status.idle": "2022-03-24T01:07:27.089579Z",
     "shell.execute_reply": "2022-03-24T01:07:27.088245Z",
     "shell.execute_reply.started": "2022-03-24T01:07:22.651889Z"
    },
    "executionInfo": {
     "elapsed": 68844,
     "status": "ok",
     "timestamp": 1549956525890,
     "user": {
      "displayName": "­이중협(대학원/일반대학원 전기전자공학과)",
      "photoUrl": "",
      "userId": "06027175232332113122"
     },
     "user_tz": -540
    },
    "id": "iqoPZuR3j9aQ",
    "outputId": "6ac6e65f-85f6-4dc2-cd48-a4749bfa9810"
   },
   "outputs": [
    {
     "name": "stdout",
     "output_type": "stream",
     "text": [
      "STEP 4: INSTANTIATE MODEL CLASS\n",
      "The number of parameters :  33617987\n"
     ]
    },
    {
     "data": {
      "text/plain": [
       "VGG(\n",
       "  (features): Sequential(\n",
       "    (0): Conv2d(3, 64, kernel_size=(3, 3), stride=(1, 1), padding=(1, 1))\n",
       "    (1): BatchNorm2d(64, eps=1e-05, momentum=0.1, affine=True, track_running_stats=True)\n",
       "    (2): ReLU()\n",
       "    (3): Conv2d(64, 64, kernel_size=(3, 3), stride=(1, 1), padding=(1, 1))\n",
       "    (4): BatchNorm2d(64, eps=1e-05, momentum=0.1, affine=True, track_running_stats=True)\n",
       "    (5): ReLU()\n",
       "    (6): MaxPool2d(kernel_size=2, stride=2, padding=0, dilation=1, ceil_mode=False)\n",
       "    (7): Conv2d(64, 128, kernel_size=(3, 3), stride=(1, 1), padding=(1, 1))\n",
       "    (8): BatchNorm2d(128, eps=1e-05, momentum=0.1, affine=True, track_running_stats=True)\n",
       "    (9): ReLU()\n",
       "    (10): Conv2d(128, 128, kernel_size=(3, 3), stride=(1, 1), padding=(1, 1))\n",
       "    (11): BatchNorm2d(128, eps=1e-05, momentum=0.1, affine=True, track_running_stats=True)\n",
       "    (12): ReLU()\n",
       "    (13): MaxPool2d(kernel_size=2, stride=2, padding=0, dilation=1, ceil_mode=False)\n",
       "    (14): Conv2d(128, 256, kernel_size=(3, 3), stride=(1, 1), padding=(1, 1))\n",
       "    (15): BatchNorm2d(256, eps=1e-05, momentum=0.1, affine=True, track_running_stats=True)\n",
       "    (16): ReLU()\n",
       "    (17): Conv2d(256, 256, kernel_size=(3, 3), stride=(1, 1), padding=(1, 1))\n",
       "    (18): BatchNorm2d(256, eps=1e-05, momentum=0.1, affine=True, track_running_stats=True)\n",
       "    (19): ReLU()\n",
       "    (20): Conv2d(256, 256, kernel_size=(3, 3), stride=(1, 1), padding=(1, 1))\n",
       "    (21): BatchNorm2d(256, eps=1e-05, momentum=0.1, affine=True, track_running_stats=True)\n",
       "    (22): ReLU()\n",
       "    (23): MaxPool2d(kernel_size=2, stride=2, padding=0, dilation=1, ceil_mode=False)\n",
       "    (24): Conv2d(256, 512, kernel_size=(3, 3), stride=(1, 1), padding=(1, 1))\n",
       "    (25): BatchNorm2d(512, eps=1e-05, momentum=0.1, affine=True, track_running_stats=True)\n",
       "    (26): ReLU()\n",
       "    (27): Conv2d(512, 512, kernel_size=(3, 3), stride=(1, 1), padding=(1, 1))\n",
       "    (28): BatchNorm2d(512, eps=1e-05, momentum=0.1, affine=True, track_running_stats=True)\n",
       "    (29): ReLU()\n",
       "    (30): Conv2d(512, 512, kernel_size=(3, 3), stride=(1, 1), padding=(1, 1))\n",
       "    (31): BatchNorm2d(512, eps=1e-05, momentum=0.1, affine=True, track_running_stats=True)\n",
       "    (32): ReLU()\n",
       "    (33): MaxPool2d(kernel_size=2, stride=2, padding=0, dilation=1, ceil_mode=False)\n",
       "    (34): Conv2d(512, 512, kernel_size=(3, 3), stride=(1, 1), padding=(1, 1))\n",
       "    (35): BatchNorm2d(512, eps=1e-05, momentum=0.1, affine=True, track_running_stats=True)\n",
       "    (36): ReLU()\n",
       "    (37): Conv2d(512, 512, kernel_size=(3, 3), stride=(1, 1), padding=(1, 1))\n",
       "    (38): BatchNorm2d(512, eps=1e-05, momentum=0.1, affine=True, track_running_stats=True)\n",
       "    (39): ReLU()\n",
       "    (40): Conv2d(512, 512, kernel_size=(3, 3), stride=(1, 1), padding=(1, 1))\n",
       "    (41): BatchNorm2d(512, eps=1e-05, momentum=0.1, affine=True, track_running_stats=True)\n",
       "    (42): ReLU()\n",
       "    (43): MaxPool2d(kernel_size=2, stride=2, padding=0, dilation=1, ceil_mode=False)\n",
       "  )\n",
       "  (fc1): Sequential(\n",
       "    (0): Linear(in_features=512, out_features=4096, bias=True)\n",
       "    (1): ReLU()\n",
       "    (2): Linear(in_features=4096, out_features=4096, bias=True)\n",
       "    (3): ReLU()\n",
       "    (4): Linear(in_features=4096, out_features=3, bias=True)\n",
       "  )\n",
       ")"
      ]
     },
     "execution_count": 11,
     "metadata": {},
     "output_type": "execute_result"
    }
   ],
   "source": [
    "print('STEP 4: INSTANTIATE MODEL CLASS')\n",
    "\n",
    "\n",
    "model = VGG()\n",
    "num_total_params = sum(p.numel() for p in model.parameters())\n",
    "print(\"The number of parameters : \", num_total_params)\n",
    "#######################\n",
    "#  USE GPU FOR MODEL  #\n",
    "#######################\n",
    "\n",
    "device = torch.device(\"cuda:0\" if torch.cuda.is_available() else \"cpu\")\n",
    "model.to(device)"
   ]
  },
  {
   "cell_type": "code",
   "execution_count": 12,
   "metadata": {
    "colab": {
     "base_uri": "https://localhost:8080/",
     "height": 53
    },
    "colab_type": "code",
    "execution": {
     "iopub.execute_input": "2022-03-24T01:07:27.091144Z",
     "iopub.status.busy": "2022-03-24T01:07:27.090816Z",
     "iopub.status.idle": "2022-03-24T01:07:27.097346Z",
     "shell.execute_reply": "2022-03-24T01:07:27.096541Z",
     "shell.execute_reply.started": "2022-03-24T01:07:27.091123Z"
    },
    "executionInfo": {
     "elapsed": 68834,
     "status": "ok",
     "timestamp": 1549956525891,
     "user": {
      "displayName": "­이중협(대학원/일반대학원 전기전자공학과)",
      "photoUrl": "",
      "userId": "06027175232332113122"
     },
     "user_tz": -540
    },
    "id": "mFeamtXXj9aT",
    "outputId": "0cbbaa6a-65ff-4d79-d1e4-2b2580d04039"
   },
   "outputs": [
    {
     "name": "stdout",
     "output_type": "stream",
     "text": [
      "STEP 5: INSTANTIATE LOSS CLASS\n",
      "STEP 6: INSTANTIATE OPTIMIZER CLASS\n"
     ]
    }
   ],
   "source": [
    "print('STEP 5: INSTANTIATE LOSS CLASS')\n",
    "\n",
    "criterion = nn.CrossEntropyLoss()\n",
    "\n",
    "print('STEP 6: INSTANTIATE OPTIMIZER CLASS')\n",
    "\n",
    "learning_rate = 1e-2\n",
    "momentum = 0.9\n",
    "weight_decay = 5e-4\n",
    "\n",
    "optimizer = torch.optim.SGD(model.parameters(), lr=learning_rate, momentum = momentum, weight_decay = weight_decay)"
   ]
  },
  {
   "cell_type": "markdown",
   "metadata": {
    "colab_type": "text",
    "id": "PaWErvoRj9aY"
   },
   "source": [
    "### 1.2 Train the VGG 16 model and print test accuracy for every epochs [2 points]"
   ]
  },
  {
   "cell_type": "code",
   "execution_count": 13,
   "metadata": {
    "colab": {
     "base_uri": "https://localhost:8080/",
     "height": 395
    },
    "colab_type": "code",
    "execution": {
     "iopub.execute_input": "2022-03-24T01:07:27.098444Z",
     "iopub.status.busy": "2022-03-24T01:07:27.098193Z",
     "iopub.status.idle": "2022-03-24T01:08:36.334931Z",
     "shell.execute_reply": "2022-03-24T01:08:36.333605Z",
     "shell.execute_reply.started": "2022-03-24T01:07:27.098427Z"
    },
    "executionInfo": {
     "elapsed": 1260714,
     "status": "ok",
     "timestamp": 1549957717778,
     "user": {
      "displayName": "­이중협(대학원/일반대학원 전기전자공학과)",
      "photoUrl": "",
      "userId": "06027175232332113122"
     },
     "user_tz": -540
    },
    "id": "bbi85f2Pj9aY",
    "outputId": "8483debb-2beb-4674-da28-0833c55d0a32",
    "scrolled": true
   },
   "outputs": [
    {
     "name": "stdout",
     "output_type": "stream",
     "text": [
      "STEP 7: TRAIN THE MODEL\n"
     ]
    },
    {
     "name": "stderr",
     "output_type": "stream",
     "text": [
      "/home/jovyan/.venv/torch1.9.0-py3.8-cuda11.1/lib/python3.8/site-packages/torch/nn/functional.py:718: UserWarning: Named tensors and all their associated APIs are an experimental feature and subject to change. Please do not use them for anything important until they are released as stable. (Triggered internally at  /pytorch/c10/core/TensorImpl.h:1156.)\n",
      "  return torch.max_pool2d(input, kernel_size, stride, padding, dilation, ceil_mode)\n"
     ]
    },
    {
     "name": "stdout",
     "output_type": "stream",
     "text": [
      "epochs: 0. Loss: 0.4236792325973511. Accuracy: 82.46666666666667. Elapsed time: 3.6178839206695557 sec\n",
      "epochs: 1. Loss: 0.27454277873039246. Accuracy: 86.83333333333333. Elapsed time: 3.4340834617614746 sec\n",
      "epochs: 2. Loss: 0.5849425792694092. Accuracy: 88.4. Elapsed time: 3.464014768600464 sec\n",
      "epochs: 3. Loss: 0.21393656730651855. Accuracy: 89.23333333333333. Elapsed time: 3.4569413661956787 sec\n",
      "epochs: 4. Loss: 0.15223143994808197. Accuracy: 91.9. Elapsed time: 3.462792158126831 sec\n",
      "epochs: 5. Loss: 0.07976546138525009. Accuracy: 91.23333333333333. Elapsed time: 3.4708542823791504 sec\n",
      "epochs: 6. Loss: 0.37168216705322266. Accuracy: 87.43333333333334. Elapsed time: 3.4536354541778564 sec\n",
      "epochs: 7. Loss: 0.13988913595676422. Accuracy: 91.6. Elapsed time: 3.4111123085021973 sec\n",
      "epochs: 8. Loss: 0.031430684030056. Accuracy: 92.1. Elapsed time: 3.4770517349243164 sec\n",
      "epochs: 9. Loss: 0.02712276764214039. Accuracy: 92.4. Elapsed time: 3.4607980251312256 sec\n",
      "epochs: 10. Loss: 0.01420616265386343. Accuracy: 90.4. Elapsed time: 3.477020263671875 sec\n",
      "epochs: 11. Loss: 0.0076958914287388325. Accuracy: 91.36666666666666. Elapsed time: 3.442107677459717 sec\n",
      "epochs: 12. Loss: 0.0051352037116885185. Accuracy: 93.06666666666666. Elapsed time: 3.455880641937256 sec\n",
      "epochs: 13. Loss: 0.21186555922031403. Accuracy: 92.5. Elapsed time: 3.451267957687378 sec\n",
      "epochs: 14. Loss: 0.0012531504034996033. Accuracy: 92.93333333333334. Elapsed time: 3.4393725395202637 sec\n",
      "epochs: 15. Loss: 0.23488737642765045. Accuracy: 91.16666666666667. Elapsed time: 3.4501166343688965 sec\n",
      "epochs: 16. Loss: 0.005703459028154612. Accuracy: 91.6. Elapsed time: 3.4423739910125732 sec\n",
      "epochs: 17. Loss: 0.005814226344227791. Accuracy: 93.0. Elapsed time: 3.450861930847168 sec\n",
      "epochs: 18. Loss: 0.01055836584419012. Accuracy: 92.13333333333334. Elapsed time: 3.4429616928100586 sec\n",
      "epochs: 19. Loss: 0.002562995534390211. Accuracy: 92.5. Elapsed time: 3.463866710662842 sec\n"
     ]
    }
   ],
   "source": [
    "print('STEP 7: TRAIN THE MODEL')\n",
    "num_epochs = 20\n",
    "\n",
    "import time\n",
    "\n",
    "for epoch in range(num_epochs):\n",
    "  start_time = time.time()\n",
    "  for i, (images, labels) in enumerate(train_loader):\n",
    "    #######################\n",
    "    #  USE GPU FOR MODEL  #\n",
    "    #######################\n",
    "    images = images.to(device)\n",
    "    labels = labels.to(device)\n",
    "\n",
    "    # Clear gradients w.r.t. parameters\n",
    "    optimizer.zero_grad()\n",
    "    \n",
    "    # Forward pass to get output/logits\n",
    "    outputs = model(images)\n",
    "\n",
    "    # Calculate Loss: softmax --> cross entropy loss\n",
    "    loss = criterion(outputs, labels)\n",
    "\n",
    "    # Getting gradients w.r.t. parameters\n",
    "    loss.backward()\n",
    "\n",
    "    # Updating parameters\n",
    "    optimizer.step()\n",
    "\n",
    "  # Calculate Accuracy for each epoch \n",
    "  total = 0\n",
    "  correct = 0\n",
    "  for images, labels in test_loader:\n",
    "    #######################\n",
    "    #  USE GPU FOR MODEL  #\n",
    "    #######################\n",
    "    images = images.to(device)\n",
    "    labels = labels.to(device)\n",
    "\n",
    "    # Forward pass only to get logits/output\n",
    "    outputs = model(images)\n",
    "\n",
    "    # Get predictions from the maximum value\n",
    "    _, predicted = torch.max(outputs.data, 1)\n",
    "\n",
    "    total += labels.size(0)\n",
    "\n",
    "    if not torch.cuda.is_available():\n",
    "        correct += (predicted.cpu() == labels.cpu()).sum()\n",
    "    else:\n",
    "        correct += (predicted == labels).sum()\n",
    "\n",
    "  accuracy = 100 * correct.item() / total\n",
    "\n",
    "  print('epochs: {}. Loss: {}. Accuracy: {}. Elapsed time: {} sec'.format(epoch, loss.item(), accuracy, time.time() - start_time))\n"
   ]
  },
  {
   "cell_type": "markdown",
   "metadata": {
    "colab_type": "text",
    "id": "Tb-Zo5yOj9ac"
   },
   "source": [
    "## 2. ResNet with PyTorch"
   ]
  },
  {
   "cell_type": "markdown",
   "metadata": {
    "colab_type": "text",
    "id": "MQeESvzij9ad"
   },
   "source": [
    "### Implementing ResNet\n",
    "\n",
    "> 1. **Dataset**\n",
    ">> - The same dataset used for VGGNet\n",
    ">\n",
    "> 2. **Network architecture**\n",
    ">> - 50-layer ResNet with **bottleneck blocks**. <br>\n",
    "     Note. The initial convolution layer (i.e., conv1) is different from the one in the paper &<br>\n",
    "     the initial max-pooling layer is removed (because the size of CIFAR-10 images is too small).\n",
    ">> - ReLU activation.\n",
    ">> - Strided convolution for down-sampling instead of max-pooling layer. <br>\n",
    "     Note. Once down-sampled, a $1\\times1$ convolution/stride 2 is applied to residual for expanding the channel of the residual.\n",
    ">> - No dropout for simplicity.\n",
    ">> - Batch-normalization after every convolution.\n",
    ">>\n",
    ">>\n",
    ">> <table><tr>\n",
    ">> <td> <img src=\"http://drive.google.com/uc?export=view&id=1l3rC40WnBXZBagFIuME48SPvcqVY-56Y\" alt=\"no_image\" style=\"width: 500px;\"/> </td>\n",
    ">> <td> <img src=\"http://drive.google.com/uc?export=view&id=1r92UcNqn6ZT5pOk3emEijjTKlWdAYvCk\" alt=\"no_image\" style=\"width: 300px;\"/> </td>\n",
    ">> </tr></table>\n",
    ">>\n",
    ">> <img src=\"http://drive.google.com/uc?export=view&id=1n0NYyWWbDBd9PHjNEs7AHpOhMci5q6qk\" alt=\"no_image\" style=\"width: 870px;\"/>\n",
    ">>\n",
    ">> <font size=\"0.5\"> Figures from <br> \n",
    ">> [1] https://www.codeproject.com/Articles/1248963/Deep-Learning-using-Python-plus-Keras-Chapter-Re  <br> \n",
    ">> [2] Rezende et al., *Signal Processing: Image Communication*, 2018. </font>\n",
    ">\n",
    "> 3. **Loss function**\n",
    ">> - Cross-entropy loss between outputs & ground-truths. <br>\n",
    ">\n",
    "> 4. **Training**\n",
    ">> - Default weight initialization for simplicity.\n",
    ">> - SGD optimizer with `learning rate = 1e-2`, `momentum = 0.9`, and `weight_decay = 5e-4`.\n",
    ">> - 15 epochs without learning rate scheduling.\n",
    ">\n",
    "> 5. **Evaluation metric**\n",
    ">> - Classification accuracy (i.e., the percentage of correct predictions).\n",
    ">\n",
    "> "
   ]
  },
  {
   "cell_type": "markdown",
   "metadata": {
    "colab_type": "text",
    "id": "j-guPbqGj9ae"
   },
   "source": [
    "### 2.1 Implement ResNet50 and train it with the CIFAR 10 dataset [4 points] "
   ]
  },
  {
   "cell_type": "code",
   "execution_count": 14,
   "metadata": {
    "colab": {
     "base_uri": "https://localhost:8080/",
     "height": 5273
    },
    "colab_type": "code",
    "execution": {
     "iopub.execute_input": "2022-03-24T01:08:36.338711Z",
     "iopub.status.busy": "2022-03-24T01:08:36.338346Z",
     "iopub.status.idle": "2022-03-24T01:08:36.571133Z",
     "shell.execute_reply": "2022-03-24T01:08:36.570187Z",
     "shell.execute_reply.started": "2022-03-24T01:08:36.338688Z"
    },
    "executionInfo": {
     "elapsed": 1261054,
     "status": "ok",
     "timestamp": 1549957718124,
     "user": {
      "displayName": "­이중협(대학원/일반대학원 전기전자공학과)",
      "photoUrl": "",
      "userId": "06027175232332113122"
     },
     "user_tz": -540
    },
    "id": "21UwX-8Kj9af",
    "outputId": "26e6b1fc-6a61-43ed-afa7-7305fb6c5150"
   },
   "outputs": [
    {
     "name": "stdout",
     "output_type": "stream",
     "text": [
      "STEP 3: CREATE MODEL CLASS (ResNet-50)\n",
      "STEP 3: CREATE MODEL CLASS (ResNet-50)\n",
      "STEP 4: INSTANTIATE MODEL CLASS\n",
      "The number of parameters :  23563267\n"
     ]
    },
    {
     "data": {
      "text/plain": [
       "ResNet(\n",
       "  (conv1): Conv_layer(\n",
       "    (relu): ReLU()\n",
       "    (conv): Conv2d(3, 64, kernel_size=(3, 3), stride=(1, 1), padding=(1, 1))\n",
       "    (bn): BatchNorm2d(64, eps=1e-05, momentum=0.1, affine=True, track_running_stats=True)\n",
       "  )\n",
       "  (conv2): Sequential(\n",
       "    (0): Identity_mapping(\n",
       "      (relu): ReLU()\n",
       "      (bn): BatchNorm2d(256, eps=1e-05, momentum=0.1, affine=True, track_running_stats=True)\n",
       "      (block): Sequential(\n",
       "        (0): Conv_layer(\n",
       "          (relu): ReLU()\n",
       "          (conv): Conv2d(64, 64, kernel_size=(1, 1), stride=(1, 1))\n",
       "          (bn): BatchNorm2d(64, eps=1e-05, momentum=0.1, affine=True, track_running_stats=True)\n",
       "        )\n",
       "        (1): Conv_layer(\n",
       "          (relu): ReLU()\n",
       "          (conv): Conv2d(64, 64, kernel_size=(3, 3), stride=(1, 1), padding=(1, 1))\n",
       "          (bn): BatchNorm2d(64, eps=1e-05, momentum=0.1, affine=True, track_running_stats=True)\n",
       "        )\n",
       "        (2): Conv_layer(\n",
       "          (relu): ReLU()\n",
       "          (conv): Conv2d(64, 256, kernel_size=(1, 1), stride=(1, 1))\n",
       "          (bn): BatchNorm2d(256, eps=1e-05, momentum=0.1, affine=True, track_running_stats=True)\n",
       "        )\n",
       "      )\n",
       "      (res_connection): Conv_layer(\n",
       "        (relu): ReLU()\n",
       "        (conv): Conv2d(64, 256, kernel_size=(1, 1), stride=(1, 1))\n",
       "        (bn): BatchNorm2d(256, eps=1e-05, momentum=0.1, affine=True, track_running_stats=True)\n",
       "      )\n",
       "    )\n",
       "    (1): Identity_mapping(\n",
       "      (relu): ReLU()\n",
       "      (bn): BatchNorm2d(256, eps=1e-05, momentum=0.1, affine=True, track_running_stats=True)\n",
       "      (block): Sequential(\n",
       "        (0): Conv_layer(\n",
       "          (relu): ReLU()\n",
       "          (conv): Conv2d(256, 64, kernel_size=(1, 1), stride=(1, 1))\n",
       "          (bn): BatchNorm2d(64, eps=1e-05, momentum=0.1, affine=True, track_running_stats=True)\n",
       "        )\n",
       "        (1): Conv_layer(\n",
       "          (relu): ReLU()\n",
       "          (conv): Conv2d(64, 64, kernel_size=(3, 3), stride=(1, 1), padding=(1, 1))\n",
       "          (bn): BatchNorm2d(64, eps=1e-05, momentum=0.1, affine=True, track_running_stats=True)\n",
       "        )\n",
       "        (2): Conv_layer(\n",
       "          (relu): ReLU()\n",
       "          (conv): Conv2d(64, 256, kernel_size=(1, 1), stride=(1, 1))\n",
       "          (bn): BatchNorm2d(256, eps=1e-05, momentum=0.1, affine=True, track_running_stats=True)\n",
       "        )\n",
       "      )\n",
       "      (res_connection): Identity()\n",
       "    )\n",
       "    (2): Identity_mapping(\n",
       "      (relu): ReLU()\n",
       "      (bn): BatchNorm2d(256, eps=1e-05, momentum=0.1, affine=True, track_running_stats=True)\n",
       "      (block): Sequential(\n",
       "        (0): Conv_layer(\n",
       "          (relu): ReLU()\n",
       "          (conv): Conv2d(256, 64, kernel_size=(1, 1), stride=(1, 1))\n",
       "          (bn): BatchNorm2d(64, eps=1e-05, momentum=0.1, affine=True, track_running_stats=True)\n",
       "        )\n",
       "        (1): Conv_layer(\n",
       "          (relu): ReLU()\n",
       "          (conv): Conv2d(64, 64, kernel_size=(3, 3), stride=(1, 1), padding=(1, 1))\n",
       "          (bn): BatchNorm2d(64, eps=1e-05, momentum=0.1, affine=True, track_running_stats=True)\n",
       "        )\n",
       "        (2): Conv_layer(\n",
       "          (relu): ReLU()\n",
       "          (conv): Conv2d(64, 256, kernel_size=(1, 1), stride=(1, 1))\n",
       "          (bn): BatchNorm2d(256, eps=1e-05, momentum=0.1, affine=True, track_running_stats=True)\n",
       "        )\n",
       "      )\n",
       "      (res_connection): Identity()\n",
       "    )\n",
       "  )\n",
       "  (conv3): Sequential(\n",
       "    (0): Identity_mapping(\n",
       "      (relu): ReLU()\n",
       "      (bn): BatchNorm2d(512, eps=1e-05, momentum=0.1, affine=True, track_running_stats=True)\n",
       "      (block): Sequential(\n",
       "        (0): Conv_layer(\n",
       "          (relu): ReLU()\n",
       "          (conv): Conv2d(256, 128, kernel_size=(1, 1), stride=(2, 2))\n",
       "          (bn): BatchNorm2d(128, eps=1e-05, momentum=0.1, affine=True, track_running_stats=True)\n",
       "        )\n",
       "        (1): Conv_layer(\n",
       "          (relu): ReLU()\n",
       "          (conv): Conv2d(128, 128, kernel_size=(3, 3), stride=(1, 1), padding=(1, 1))\n",
       "          (bn): BatchNorm2d(128, eps=1e-05, momentum=0.1, affine=True, track_running_stats=True)\n",
       "        )\n",
       "        (2): Conv_layer(\n",
       "          (relu): ReLU()\n",
       "          (conv): Conv2d(128, 512, kernel_size=(1, 1), stride=(1, 1))\n",
       "          (bn): BatchNorm2d(512, eps=1e-05, momentum=0.1, affine=True, track_running_stats=True)\n",
       "        )\n",
       "      )\n",
       "      (res_connection): Conv_layer(\n",
       "        (relu): ReLU()\n",
       "        (conv): Conv2d(256, 512, kernel_size=(1, 1), stride=(2, 2))\n",
       "        (bn): BatchNorm2d(512, eps=1e-05, momentum=0.1, affine=True, track_running_stats=True)\n",
       "      )\n",
       "    )\n",
       "    (1): Identity_mapping(\n",
       "      (relu): ReLU()\n",
       "      (bn): BatchNorm2d(512, eps=1e-05, momentum=0.1, affine=True, track_running_stats=True)\n",
       "      (block): Sequential(\n",
       "        (0): Conv_layer(\n",
       "          (relu): ReLU()\n",
       "          (conv): Conv2d(512, 128, kernel_size=(1, 1), stride=(1, 1))\n",
       "          (bn): BatchNorm2d(128, eps=1e-05, momentum=0.1, affine=True, track_running_stats=True)\n",
       "        )\n",
       "        (1): Conv_layer(\n",
       "          (relu): ReLU()\n",
       "          (conv): Conv2d(128, 128, kernel_size=(3, 3), stride=(1, 1), padding=(1, 1))\n",
       "          (bn): BatchNorm2d(128, eps=1e-05, momentum=0.1, affine=True, track_running_stats=True)\n",
       "        )\n",
       "        (2): Conv_layer(\n",
       "          (relu): ReLU()\n",
       "          (conv): Conv2d(128, 512, kernel_size=(1, 1), stride=(1, 1))\n",
       "          (bn): BatchNorm2d(512, eps=1e-05, momentum=0.1, affine=True, track_running_stats=True)\n",
       "        )\n",
       "      )\n",
       "      (res_connection): Identity()\n",
       "    )\n",
       "    (2): Identity_mapping(\n",
       "      (relu): ReLU()\n",
       "      (bn): BatchNorm2d(512, eps=1e-05, momentum=0.1, affine=True, track_running_stats=True)\n",
       "      (block): Sequential(\n",
       "        (0): Conv_layer(\n",
       "          (relu): ReLU()\n",
       "          (conv): Conv2d(512, 128, kernel_size=(1, 1), stride=(1, 1))\n",
       "          (bn): BatchNorm2d(128, eps=1e-05, momentum=0.1, affine=True, track_running_stats=True)\n",
       "        )\n",
       "        (1): Conv_layer(\n",
       "          (relu): ReLU()\n",
       "          (conv): Conv2d(128, 128, kernel_size=(3, 3), stride=(1, 1), padding=(1, 1))\n",
       "          (bn): BatchNorm2d(128, eps=1e-05, momentum=0.1, affine=True, track_running_stats=True)\n",
       "        )\n",
       "        (2): Conv_layer(\n",
       "          (relu): ReLU()\n",
       "          (conv): Conv2d(128, 512, kernel_size=(1, 1), stride=(1, 1))\n",
       "          (bn): BatchNorm2d(512, eps=1e-05, momentum=0.1, affine=True, track_running_stats=True)\n",
       "        )\n",
       "      )\n",
       "      (res_connection): Identity()\n",
       "    )\n",
       "    (3): Identity_mapping(\n",
       "      (relu): ReLU()\n",
       "      (bn): BatchNorm2d(512, eps=1e-05, momentum=0.1, affine=True, track_running_stats=True)\n",
       "      (block): Sequential(\n",
       "        (0): Conv_layer(\n",
       "          (relu): ReLU()\n",
       "          (conv): Conv2d(512, 128, kernel_size=(1, 1), stride=(1, 1))\n",
       "          (bn): BatchNorm2d(128, eps=1e-05, momentum=0.1, affine=True, track_running_stats=True)\n",
       "        )\n",
       "        (1): Conv_layer(\n",
       "          (relu): ReLU()\n",
       "          (conv): Conv2d(128, 128, kernel_size=(3, 3), stride=(1, 1), padding=(1, 1))\n",
       "          (bn): BatchNorm2d(128, eps=1e-05, momentum=0.1, affine=True, track_running_stats=True)\n",
       "        )\n",
       "        (2): Conv_layer(\n",
       "          (relu): ReLU()\n",
       "          (conv): Conv2d(128, 512, kernel_size=(1, 1), stride=(1, 1))\n",
       "          (bn): BatchNorm2d(512, eps=1e-05, momentum=0.1, affine=True, track_running_stats=True)\n",
       "        )\n",
       "      )\n",
       "      (res_connection): Identity()\n",
       "    )\n",
       "  )\n",
       "  (conv4): Sequential(\n",
       "    (0): Identity_mapping(\n",
       "      (relu): ReLU()\n",
       "      (bn): BatchNorm2d(1024, eps=1e-05, momentum=0.1, affine=True, track_running_stats=True)\n",
       "      (block): Sequential(\n",
       "        (0): Conv_layer(\n",
       "          (relu): ReLU()\n",
       "          (conv): Conv2d(512, 256, kernel_size=(1, 1), stride=(2, 2))\n",
       "          (bn): BatchNorm2d(256, eps=1e-05, momentum=0.1, affine=True, track_running_stats=True)\n",
       "        )\n",
       "        (1): Conv_layer(\n",
       "          (relu): ReLU()\n",
       "          (conv): Conv2d(256, 256, kernel_size=(3, 3), stride=(1, 1), padding=(1, 1))\n",
       "          (bn): BatchNorm2d(256, eps=1e-05, momentum=0.1, affine=True, track_running_stats=True)\n",
       "        )\n",
       "        (2): Conv_layer(\n",
       "          (relu): ReLU()\n",
       "          (conv): Conv2d(256, 1024, kernel_size=(1, 1), stride=(1, 1))\n",
       "          (bn): BatchNorm2d(1024, eps=1e-05, momentum=0.1, affine=True, track_running_stats=True)\n",
       "        )\n",
       "      )\n",
       "      (res_connection): Conv_layer(\n",
       "        (relu): ReLU()\n",
       "        (conv): Conv2d(512, 1024, kernel_size=(1, 1), stride=(2, 2))\n",
       "        (bn): BatchNorm2d(1024, eps=1e-05, momentum=0.1, affine=True, track_running_stats=True)\n",
       "      )\n",
       "    )\n",
       "    (1): Identity_mapping(\n",
       "      (relu): ReLU()\n",
       "      (bn): BatchNorm2d(1024, eps=1e-05, momentum=0.1, affine=True, track_running_stats=True)\n",
       "      (block): Sequential(\n",
       "        (0): Conv_layer(\n",
       "          (relu): ReLU()\n",
       "          (conv): Conv2d(1024, 256, kernel_size=(1, 1), stride=(1, 1))\n",
       "          (bn): BatchNorm2d(256, eps=1e-05, momentum=0.1, affine=True, track_running_stats=True)\n",
       "        )\n",
       "        (1): Conv_layer(\n",
       "          (relu): ReLU()\n",
       "          (conv): Conv2d(256, 256, kernel_size=(3, 3), stride=(1, 1), padding=(1, 1))\n",
       "          (bn): BatchNorm2d(256, eps=1e-05, momentum=0.1, affine=True, track_running_stats=True)\n",
       "        )\n",
       "        (2): Conv_layer(\n",
       "          (relu): ReLU()\n",
       "          (conv): Conv2d(256, 1024, kernel_size=(1, 1), stride=(1, 1))\n",
       "          (bn): BatchNorm2d(1024, eps=1e-05, momentum=0.1, affine=True, track_running_stats=True)\n",
       "        )\n",
       "      )\n",
       "      (res_connection): Identity()\n",
       "    )\n",
       "    (2): Identity_mapping(\n",
       "      (relu): ReLU()\n",
       "      (bn): BatchNorm2d(1024, eps=1e-05, momentum=0.1, affine=True, track_running_stats=True)\n",
       "      (block): Sequential(\n",
       "        (0): Conv_layer(\n",
       "          (relu): ReLU()\n",
       "          (conv): Conv2d(1024, 256, kernel_size=(1, 1), stride=(1, 1))\n",
       "          (bn): BatchNorm2d(256, eps=1e-05, momentum=0.1, affine=True, track_running_stats=True)\n",
       "        )\n",
       "        (1): Conv_layer(\n",
       "          (relu): ReLU()\n",
       "          (conv): Conv2d(256, 256, kernel_size=(3, 3), stride=(1, 1), padding=(1, 1))\n",
       "          (bn): BatchNorm2d(256, eps=1e-05, momentum=0.1, affine=True, track_running_stats=True)\n",
       "        )\n",
       "        (2): Conv_layer(\n",
       "          (relu): ReLU()\n",
       "          (conv): Conv2d(256, 1024, kernel_size=(1, 1), stride=(1, 1))\n",
       "          (bn): BatchNorm2d(1024, eps=1e-05, momentum=0.1, affine=True, track_running_stats=True)\n",
       "        )\n",
       "      )\n",
       "      (res_connection): Identity()\n",
       "    )\n",
       "    (3): Identity_mapping(\n",
       "      (relu): ReLU()\n",
       "      (bn): BatchNorm2d(1024, eps=1e-05, momentum=0.1, affine=True, track_running_stats=True)\n",
       "      (block): Sequential(\n",
       "        (0): Conv_layer(\n",
       "          (relu): ReLU()\n",
       "          (conv): Conv2d(1024, 256, kernel_size=(1, 1), stride=(1, 1))\n",
       "          (bn): BatchNorm2d(256, eps=1e-05, momentum=0.1, affine=True, track_running_stats=True)\n",
       "        )\n",
       "        (1): Conv_layer(\n",
       "          (relu): ReLU()\n",
       "          (conv): Conv2d(256, 256, kernel_size=(3, 3), stride=(1, 1), padding=(1, 1))\n",
       "          (bn): BatchNorm2d(256, eps=1e-05, momentum=0.1, affine=True, track_running_stats=True)\n",
       "        )\n",
       "        (2): Conv_layer(\n",
       "          (relu): ReLU()\n",
       "          (conv): Conv2d(256, 1024, kernel_size=(1, 1), stride=(1, 1))\n",
       "          (bn): BatchNorm2d(1024, eps=1e-05, momentum=0.1, affine=True, track_running_stats=True)\n",
       "        )\n",
       "      )\n",
       "      (res_connection): Identity()\n",
       "    )\n",
       "    (4): Identity_mapping(\n",
       "      (relu): ReLU()\n",
       "      (bn): BatchNorm2d(1024, eps=1e-05, momentum=0.1, affine=True, track_running_stats=True)\n",
       "      (block): Sequential(\n",
       "        (0): Conv_layer(\n",
       "          (relu): ReLU()\n",
       "          (conv): Conv2d(1024, 256, kernel_size=(1, 1), stride=(1, 1))\n",
       "          (bn): BatchNorm2d(256, eps=1e-05, momentum=0.1, affine=True, track_running_stats=True)\n",
       "        )\n",
       "        (1): Conv_layer(\n",
       "          (relu): ReLU()\n",
       "          (conv): Conv2d(256, 256, kernel_size=(3, 3), stride=(1, 1), padding=(1, 1))\n",
       "          (bn): BatchNorm2d(256, eps=1e-05, momentum=0.1, affine=True, track_running_stats=True)\n",
       "        )\n",
       "        (2): Conv_layer(\n",
       "          (relu): ReLU()\n",
       "          (conv): Conv2d(256, 1024, kernel_size=(1, 1), stride=(1, 1))\n",
       "          (bn): BatchNorm2d(1024, eps=1e-05, momentum=0.1, affine=True, track_running_stats=True)\n",
       "        )\n",
       "      )\n",
       "      (res_connection): Identity()\n",
       "    )\n",
       "    (5): Identity_mapping(\n",
       "      (relu): ReLU()\n",
       "      (bn): BatchNorm2d(1024, eps=1e-05, momentum=0.1, affine=True, track_running_stats=True)\n",
       "      (block): Sequential(\n",
       "        (0): Conv_layer(\n",
       "          (relu): ReLU()\n",
       "          (conv): Conv2d(1024, 256, kernel_size=(1, 1), stride=(1, 1))\n",
       "          (bn): BatchNorm2d(256, eps=1e-05, momentum=0.1, affine=True, track_running_stats=True)\n",
       "        )\n",
       "        (1): Conv_layer(\n",
       "          (relu): ReLU()\n",
       "          (conv): Conv2d(256, 256, kernel_size=(3, 3), stride=(1, 1), padding=(1, 1))\n",
       "          (bn): BatchNorm2d(256, eps=1e-05, momentum=0.1, affine=True, track_running_stats=True)\n",
       "        )\n",
       "        (2): Conv_layer(\n",
       "          (relu): ReLU()\n",
       "          (conv): Conv2d(256, 1024, kernel_size=(1, 1), stride=(1, 1))\n",
       "          (bn): BatchNorm2d(1024, eps=1e-05, momentum=0.1, affine=True, track_running_stats=True)\n",
       "        )\n",
       "      )\n",
       "      (res_connection): Identity()\n",
       "    )\n",
       "  )\n",
       "  (conv5): Sequential(\n",
       "    (0): Identity_mapping(\n",
       "      (relu): ReLU()\n",
       "      (bn): BatchNorm2d(2048, eps=1e-05, momentum=0.1, affine=True, track_running_stats=True)\n",
       "      (block): Sequential(\n",
       "        (0): Conv_layer(\n",
       "          (relu): ReLU()\n",
       "          (conv): Conv2d(1024, 512, kernel_size=(1, 1), stride=(2, 2))\n",
       "          (bn): BatchNorm2d(512, eps=1e-05, momentum=0.1, affine=True, track_running_stats=True)\n",
       "        )\n",
       "        (1): Conv_layer(\n",
       "          (relu): ReLU()\n",
       "          (conv): Conv2d(512, 512, kernel_size=(3, 3), stride=(1, 1), padding=(1, 1))\n",
       "          (bn): BatchNorm2d(512, eps=1e-05, momentum=0.1, affine=True, track_running_stats=True)\n",
       "        )\n",
       "        (2): Conv_layer(\n",
       "          (relu): ReLU()\n",
       "          (conv): Conv2d(512, 2048, kernel_size=(1, 1), stride=(1, 1))\n",
       "          (bn): BatchNorm2d(2048, eps=1e-05, momentum=0.1, affine=True, track_running_stats=True)\n",
       "        )\n",
       "      )\n",
       "      (res_connection): Conv_layer(\n",
       "        (relu): ReLU()\n",
       "        (conv): Conv2d(1024, 2048, kernel_size=(1, 1), stride=(2, 2))\n",
       "        (bn): BatchNorm2d(2048, eps=1e-05, momentum=0.1, affine=True, track_running_stats=True)\n",
       "      )\n",
       "    )\n",
       "    (1): Identity_mapping(\n",
       "      (relu): ReLU()\n",
       "      (bn): BatchNorm2d(2048, eps=1e-05, momentum=0.1, affine=True, track_running_stats=True)\n",
       "      (block): Sequential(\n",
       "        (0): Conv_layer(\n",
       "          (relu): ReLU()\n",
       "          (conv): Conv2d(2048, 512, kernel_size=(1, 1), stride=(1, 1))\n",
       "          (bn): BatchNorm2d(512, eps=1e-05, momentum=0.1, affine=True, track_running_stats=True)\n",
       "        )\n",
       "        (1): Conv_layer(\n",
       "          (relu): ReLU()\n",
       "          (conv): Conv2d(512, 512, kernel_size=(3, 3), stride=(1, 1), padding=(1, 1))\n",
       "          (bn): BatchNorm2d(512, eps=1e-05, momentum=0.1, affine=True, track_running_stats=True)\n",
       "        )\n",
       "        (2): Conv_layer(\n",
       "          (relu): ReLU()\n",
       "          (conv): Conv2d(512, 2048, kernel_size=(1, 1), stride=(1, 1))\n",
       "          (bn): BatchNorm2d(2048, eps=1e-05, momentum=0.1, affine=True, track_running_stats=True)\n",
       "        )\n",
       "      )\n",
       "      (res_connection): Identity()\n",
       "    )\n",
       "    (2): Identity_mapping(\n",
       "      (relu): ReLU()\n",
       "      (bn): BatchNorm2d(2048, eps=1e-05, momentum=0.1, affine=True, track_running_stats=True)\n",
       "      (block): Sequential(\n",
       "        (0): Conv_layer(\n",
       "          (relu): ReLU()\n",
       "          (conv): Conv2d(2048, 512, kernel_size=(1, 1), stride=(1, 1))\n",
       "          (bn): BatchNorm2d(512, eps=1e-05, momentum=0.1, affine=True, track_running_stats=True)\n",
       "        )\n",
       "        (1): Conv_layer(\n",
       "          (relu): ReLU()\n",
       "          (conv): Conv2d(512, 512, kernel_size=(3, 3), stride=(1, 1), padding=(1, 1))\n",
       "          (bn): BatchNorm2d(512, eps=1e-05, momentum=0.1, affine=True, track_running_stats=True)\n",
       "        )\n",
       "        (2): Conv_layer(\n",
       "          (relu): ReLU()\n",
       "          (conv): Conv2d(512, 2048, kernel_size=(1, 1), stride=(1, 1))\n",
       "          (bn): BatchNorm2d(2048, eps=1e-05, momentum=0.1, affine=True, track_running_stats=True)\n",
       "        )\n",
       "      )\n",
       "      (res_connection): Identity()\n",
       "    )\n",
       "  )\n",
       "  (average_pool): AvgPool2d(kernel_size=4, stride=4, padding=0)\n",
       "  (fc): Linear(in_features=2048, out_features=3, bias=True)\n",
       ")"
      ]
     },
     "execution_count": 14,
     "metadata": {},
     "output_type": "execute_result"
    }
   ],
   "source": [
    "print('STEP 3: CREATE MODEL CLASS (ResNet-50)')\n",
    "print('STEP 3: CREATE MODEL CLASS (ResNet-50)')\n",
    "# 3개의 class\n",
    "# 1. convolution, batchNorm, ReLU이 선언된 block\n",
    "# 2. 1에서 수행한 작업으로 Idendity mapping을 수행하는 block\n",
    "# 3. 1,2를 이용한 ResNet class\n",
    "\n",
    "class Conv_layer(nn.Module):\n",
    "  def __init__(self, in_channels, out_channels, kernel_size, stride=1, padding=0, is_expanding=True):\n",
    "    super(Conv_layer, self).__init__()\n",
    "    self.relu = nn.ReLU()\n",
    "    self.conv = nn.Conv2d(in_channels, out_channels, kernel_size, stride, padding)\n",
    "    self.bn = nn.BatchNorm2d(out_channels)\n",
    "    self.is_expanding = is_expanding\n",
    "  \n",
    "  def forward(self, x):\n",
    "    if self.is_expanding:\n",
    "      return self.bn(self.conv(x))\n",
    "    return self.relu(self.bn(self.conv(x)))\n",
    "    \n",
    "\n",
    "class Identity_mapping(nn.Module):\n",
    "  def __init__(self, in_channels, down_channels, out_channels):\n",
    "    super(Identity_mapping, self).__init__()\n",
    "    self.relu = nn.ReLU()\n",
    "    self.bn = nn.BatchNorm2d(out_channels)\n",
    "    if in_channels == 64:\n",
    "      self.block = nn.Sequential(\n",
    "          Conv_layer(in_channels, down_channels, kernel_size=1, stride=1, padding=0, is_expanding=False),\n",
    "          Conv_layer(down_channels, down_channels, kernel_size=3, stride=1, padding=1, is_expanding=False),\n",
    "          Conv_layer(down_channels, out_channels, kernel_size=1, stride=1, padding=0)\n",
    "      )\n",
    "      self.res_connection = Conv_layer(in_channels, out_channels, kernel_size=1)\n",
    "    elif in_channels == out_channels:\n",
    "      self.block = nn.Sequential(\n",
    "          Conv_layer(in_channels, down_channels, kernel_size=1, stride=1, padding=0, is_expanding=False),\n",
    "          Conv_layer(down_channels, down_channels, kernel_size=3, stride=1, padding=1, is_expanding=False),\n",
    "          Conv_layer(down_channels, out_channels, kernel_size=1, stride=1, padding=0)\n",
    "      )\n",
    "      self.res_connection = nn.Identity()\n",
    "    else:\n",
    "      self.block = nn.Sequential(\n",
    "          Conv_layer(in_channels, down_channels, kernel_size=1, stride=2, padding=0, is_expanding=False),\n",
    "          Conv_layer(down_channels, down_channels, kernel_size=3, stride=1, padding=1, is_expanding=False),\n",
    "          Conv_layer(down_channels, out_channels, kernel_size=1, stride=1, padding=0)\n",
    "      )\n",
    "      self.res_connection = Conv_layer(in_channels, out_channels, kernel_size=1, stride=2)\n",
    "\n",
    "  def forward(self, x):\n",
    "    f = self.block(x)\n",
    "    h = f + self.res_connection(x)\n",
    "    out = self.relu(h)\n",
    "\n",
    "    return out\n",
    "\n",
    "class ResNet(nn.Module):\n",
    "  def __init__(self):\n",
    "    super(ResNet, self).__init__()\n",
    "    self.conv1 = Conv_layer(in_channels=3, out_channels=64, kernel_size=3, stride=1, padding=1, is_expanding=False)\n",
    "\n",
    "    self.conv2 = nn.Sequential(\n",
    "        #Identity_mapping(in_channels, down_channels, out_channels)\n",
    "        Identity_mapping(64, 64, 256),\n",
    "        Identity_mapping(256, 64, 256),\n",
    "        Identity_mapping(256, 64, 256)\n",
    "    )\n",
    "\n",
    "    self.conv3 = nn.Sequential(\n",
    "        Identity_mapping(256, 128, 512),\n",
    "        Identity_mapping(512, 128, 512),\n",
    "        Identity_mapping(512, 128, 512),\n",
    "        Identity_mapping(512, 128, 512)\n",
    "    )\n",
    "\n",
    "    self.conv4 = nn.Sequential(\n",
    "        Identity_mapping(512, 256, 1024),\n",
    "        Identity_mapping(1024, 256, 1024),\n",
    "        Identity_mapping(1024, 256, 1024),\n",
    "        Identity_mapping(1024, 256, 1024),\n",
    "        Identity_mapping(1024, 256, 1024),\n",
    "        Identity_mapping(1024, 256, 1024)\n",
    "    )\n",
    "\n",
    "    self.conv5 = nn.Sequential(\n",
    "        Identity_mapping(1024, 512, 2048),\n",
    "        Identity_mapping(2048, 512, 2048),\n",
    "        Identity_mapping(2048, 512, 2048)\n",
    "    )\n",
    "\n",
    "    self.average_pool = nn.AvgPool2d(kernel_size=4)\n",
    "    self.fc = nn.Linear(2048,3)\n",
    "\n",
    "  def forward(self, x):\n",
    "    x = self.conv1(x)\n",
    "    x = self.conv2(x)\n",
    "    x = self.conv3(x)\n",
    "    x = self.conv4(x)\n",
    "    x = self.conv5(x)\n",
    "    x = self.average_pool(x)\n",
    "    x = x.view(x.size(0), -1)\n",
    "    x = self.fc(x)\n",
    "\n",
    "    return x\n",
    "\n",
    "    \n",
    "print('STEP 4: INSTANTIATE MODEL CLASS')\n",
    "model = ResNet()\n",
    "num_total_params = sum(p.numel() for p in model.parameters())\n",
    "print(\"The number of parameters : \", num_total_params)\n",
    "\n",
    "device = torch.device(\"cuda:0\" if torch.cuda.is_available() else \"cpu\")\n",
    "model.to(device)\n"
   ]
  },
  {
   "cell_type": "markdown",
   "metadata": {
    "colab_type": "text",
    "id": "PTFU8J5Uj9aj"
   },
   "source": [
    "### 2.2 Print test accuracy for every epochs. [1 points]"
   ]
  },
  {
   "cell_type": "code",
   "execution_count": 15,
   "metadata": {
    "colab": {
     "base_uri": "https://localhost:8080/",
     "height": 341
    },
    "colab_type": "code",
    "execution": {
     "iopub.execute_input": "2022-03-24T01:08:36.572629Z",
     "iopub.status.busy": "2022-03-24T01:08:36.572338Z",
     "iopub.status.idle": "2022-03-24T01:12:15.121713Z",
     "shell.execute_reply": "2022-03-24T01:12:15.120915Z",
     "shell.execute_reply.started": "2022-03-24T01:08:36.572596Z"
    },
    "executionInfo": {
     "elapsed": 3331664,
     "status": "ok",
     "timestamp": 1549959788744,
     "user": {
      "displayName": "­이중협(대학원/일반대학원 전기전자공학과)",
      "photoUrl": "",
      "userId": "06027175232332113122"
     },
     "user_tz": -540
    },
    "id": "ydsAXR-qj9ak",
    "outputId": "f60bbc8f-dfdb-4481-8e48-38a67d7ddffc",
    "tags": []
   },
   "outputs": [
    {
     "name": "stdout",
     "output_type": "stream",
     "text": [
      "STEP 5: INSTANTIATE LOSS CLASS\n",
      "STEP 6: INSTANTIATE OPTIMIZER CLASS\n",
      "STEP 7: TRAIN THE MODEL\n",
      "epochs: 0. Loss: 1.2447506189346313. Accuracy: 58.0. Elapsed time: 14.537542819976807 sec\n",
      "epochs: 1. Loss: 0.34950876235961914. Accuracy: 81.03333333333333. Elapsed time: 14.538256406784058 sec\n",
      "epochs: 2. Loss: 0.685392439365387. Accuracy: 77.13333333333334. Elapsed time: 14.546396970748901 sec\n",
      "epochs: 3. Loss: 0.43932631611824036. Accuracy: 78.76666666666667. Elapsed time: 14.55368685722351 sec\n",
      "epochs: 4. Loss: 0.35609444975852966. Accuracy: 81.4. Elapsed time: 14.566596508026123 sec\n",
      "epochs: 5. Loss: 0.2649829089641571. Accuracy: 83.53333333333333. Elapsed time: 14.571988821029663 sec\n",
      "epochs: 6. Loss: 0.3015804588794708. Accuracy: 81.36666666666666. Elapsed time: 14.570509433746338 sec\n",
      "epochs: 7. Loss: 0.09923195838928223. Accuracy: 81.23333333333333. Elapsed time: 14.571761131286621 sec\n",
      "epochs: 8. Loss: 0.05159427598118782. Accuracy: 84.06666666666666. Elapsed time: 14.575774192810059 sec\n",
      "epochs: 9. Loss: 0.07989628612995148. Accuracy: 84.8. Elapsed time: 14.578502178192139 sec\n",
      "epochs: 10. Loss: 0.015159877948462963. Accuracy: 83.4. Elapsed time: 14.579139947891235 sec\n",
      "epochs: 11. Loss: 0.06560404598712921. Accuracy: 85.13333333333334. Elapsed time: 14.575453519821167 sec\n",
      "epochs: 12. Loss: 0.043429743498563766. Accuracy: 83.53333333333333. Elapsed time: 14.580800294876099 sec\n",
      "epochs: 13. Loss: 0.11464795470237732. Accuracy: 84.16666666666667. Elapsed time: 14.589748859405518 sec\n",
      "epochs: 14. Loss: 0.12843556702136993. Accuracy: 85.73333333333333. Elapsed time: 14.59536361694336 sec\n"
     ]
    }
   ],
   "source": [
    "print('STEP 5: INSTANTIATE LOSS CLASS')\n",
    "criterion = nn.CrossEntropyLoss()\n",
    "\n",
    "print('STEP 6: INSTANTIATE OPTIMIZER CLASS')\n",
    "learning_rate = 1e-2\n",
    "momentum = 0.9\n",
    "weight_decay = 5e-4\n",
    "\n",
    "optimizer = torch.optim.SGD(model.parameters(), lr=learning_rate, momentum = momentum, weight_decay = weight_decay)\n",
    "\n",
    "print('STEP 7: TRAIN THE MODEL')\n",
    "num_epochs = 15\n",
    "\n",
    "import time\n",
    "\n",
    "for epoch in range(num_epochs):\n",
    "  start_time = time.time()\n",
    "  for i, (images, labels) in enumerate(train_loader):\n",
    "    #######################\n",
    "    #  USE GPU FOR MODEL  #\n",
    "    #######################\n",
    "    images = images.to(device)\n",
    "    labels = labels.to(device)\n",
    "\n",
    "    # Clear gradients w.r.t. parameters\n",
    "    optimizer.zero_grad()\n",
    "    \n",
    "    # Forward pass to get output/logits\n",
    "    outputs = model(images)\n",
    "\n",
    "    # Calculate Loss: softmax --> cross entropy loss\n",
    "    loss = criterion(outputs, labels)\n",
    "\n",
    "    # Getting gradients w.r.t. parameters\n",
    "    loss.backward()\n",
    "\n",
    "    # Updating parameters\n",
    "    optimizer.step()\n",
    "\n",
    "  # Calculate Accuracy for each epoch \n",
    "  total = 0\n",
    "  correct = 0\n",
    "  for images, labels in test_loader:\n",
    "    #######################\n",
    "    #  USE GPU FOR MODEL  #\n",
    "    #######################\n",
    "    images = images.to(device)\n",
    "    labels = labels.to(device)\n",
    "\n",
    "    # Forward pass only to get logits/output\n",
    "    outputs = model(images)\n",
    "\n",
    "    # Get predictions from the maximum value\n",
    "    _, predicted = torch.max(outputs.data, 1)\n",
    "\n",
    "    total += labels.size(0)\n",
    "\n",
    "    if not torch.cuda.is_available():\n",
    "        correct += (predicted.cpu() == labels.cpu()).sum()\n",
    "    else:\n",
    "        correct += (predicted == labels).sum()\n",
    "\n",
    "  accuracy = 100 * correct.item() / total\n",
    "\n",
    "  print('epochs: {}. Loss: {}. Accuracy: {}. Elapsed time: {} sec'.format(epoch, loss.item(), accuracy, time.time() - start_time))\n",
    "\n"
   ]
  },
  {
   "cell_type": "markdown",
   "metadata": {},
   "source": [
    "\n",
    "*   Network의 depth가 더 깊고 학습에 용이한 skip connection을 사용하는 ResNet의 성능이 VGG보다 좋을 것이라고 예상했지만, Accuracy가 대략 10정도 낮은 결과가 나왔다. 이는 주어지는 입력 데이터가 간단하며, 크기가 작아서 생기는 결과라고 생각된다. \n",
    "*   ResNet과 VGG의 parameters의 수는 각각 23,563,267, 33,617,987이다. convolution layers가 ResNet이 훨씬 많음에도 불구하고 1*1 convolution filters를 사용한 것과 Fully Connected layers가 적어 총 parameters 수가 적다.\n",
    "\n"
   ]
  },
  {
   "cell_type": "code",
   "execution_count": null,
   "metadata": {},
   "outputs": [],
   "source": []
  }
 ],
 "metadata": {
  "accelerator": "GPU",
  "colab": {
   "collapsed_sections": [],
   "name": "EEE4423_lab3-vgg_resnet(reduced)_solution.ipynb",
   "provenance": [],
   "version": "0.3.2"
  },
  "kernelspec": {
   "display_name": "torch1.9.0-py3.8-cuda11.1",
   "language": "python",
   "name": "torch1.9.0-py3.8-cuda11.1"
  },
  "language_info": {
   "codemirror_mode": {
    "name": "ipython",
    "version": 3
   },
   "file_extension": ".py",
   "mimetype": "text/x-python",
   "name": "python",
   "nbconvert_exporter": "python",
   "pygments_lexer": "ipython3",
   "version": "3.8.10"
  }
 },
 "nbformat": 4,
 "nbformat_minor": 4
}
