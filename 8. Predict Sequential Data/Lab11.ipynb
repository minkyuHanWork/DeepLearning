{
 "cells": [
  {
   "cell_type": "markdown",
   "metadata": {
    "id": "clIFh_guHNFv"
   },
   "source": [
    "> ### EEE4423: Deep Learning Lab\n",
    "\n",
    "# LAB \\#11: Character Generation using LSTM"
   ]
  },
  {
   "cell_type": "code",
   "execution_count": 1,
   "metadata": {
    "colab": {
     "base_uri": "https://localhost:8080/"
    },
    "execution": {
     "iopub.execute_input": "2022-05-19T10:55:27.180077Z",
     "iopub.status.busy": "2022-05-19T10:55:27.179839Z",
     "iopub.status.idle": "2022-05-19T10:55:27.184938Z",
     "shell.execute_reply": "2022-05-19T10:55:27.184185Z",
     "shell.execute_reply.started": "2022-05-19T10:55:27.180057Z"
    },
    "executionInfo": {
     "elapsed": 310,
     "status": "ok",
     "timestamp": 1652870853593,
     "user": {
      "displayName": "김범준",
      "userId": "12824208135575122971"
     },
     "user_tz": -540
    },
    "id": "DUNE2wXfHNF2",
    "outputId": "8b273948-fb76-4062-fa9d-2f5b1a2d7398",
    "tags": []
   },
   "outputs": [
    {
     "name": "stdout",
     "output_type": "stream",
     "text": [
      "This code is written at 2022-05-19 10:55:27.180756\n"
     ]
    }
   ],
   "source": [
    "import datetime\n",
    "print(\"This code is written at \" + str(datetime.datetime.now()))"
   ]
  },
  {
   "cell_type": "code",
   "execution_count": 2,
   "metadata": {
    "colab": {
     "base_uri": "https://localhost:8080/"
    },
    "execution": {
     "iopub.execute_input": "2022-05-19T10:55:27.185831Z",
     "iopub.status.busy": "2022-05-19T10:55:27.185682Z",
     "iopub.status.idle": "2022-05-19T10:55:28.793555Z",
     "shell.execute_reply": "2022-05-19T10:55:28.792200Z",
     "shell.execute_reply.started": "2022-05-19T10:55:27.185814Z"
    },
    "executionInfo": {
     "elapsed": 3324,
     "status": "ok",
     "timestamp": 1652870857218,
     "user": {
      "displayName": "김범준",
      "userId": "12824208135575122971"
     },
     "user_tz": -540
    },
    "id": "wLG_KbaHa0CR",
    "outputId": "24706dca-fab6-434f-ce01-f5a2ff172641",
    "tags": []
   },
   "outputs": [
    {
     "name": "stdout",
     "output_type": "stream",
     "text": [
      "Requirement already satisfied: unidecode in /home/jovyan/.local/lib/python3.8/site-packages (1.3.4)\n",
      "\u001b[33mWARNING: You are using pip version 22.0.3; however, version 22.1 is available.\n",
      "You should consider upgrading via the '/home/jovyan/.venv/torch1.9.0-py3.8-cuda11.1/bin/python -m pip install --upgrade pip' command.\u001b[0m\u001b[33m\n",
      "\u001b[0mNote: you may need to restart the kernel to use updated packages.\n"
     ]
    }
   ],
   "source": [
    "%pip install unidecode"
   ]
  },
  {
   "cell_type": "code",
   "execution_count": 3,
   "metadata": {
    "execution": {
     "iopub.execute_input": "2022-05-19T10:55:28.796030Z",
     "iopub.status.busy": "2022-05-19T10:55:28.795612Z",
     "iopub.status.idle": "2022-05-19T10:55:29.686660Z",
     "shell.execute_reply": "2022-05-19T10:55:29.685296Z",
     "shell.execute_reply.started": "2022-05-19T10:55:28.795982Z"
    },
    "executionInfo": {
     "elapsed": 45,
     "status": "ok",
     "timestamp": 1652870857219,
     "user": {
      "displayName": "김범준",
      "userId": "12824208135575122971"
     },
     "user_tz": -540
    },
    "id": "J8vQvyjWHNF5",
    "tags": []
   },
   "outputs": [],
   "source": [
    "import unidecode\n",
    "import string\n",
    "import random\n",
    "import re\n",
    "import os\n",
    "\n",
    "import torch\n",
    "import torch.nn as nn\n",
    "from torch.autograd import Variable"
   ]
  },
  {
   "cell_type": "markdown",
   "metadata": {
    "id": "O9OP9XM9HNF5"
   },
   "source": [
    "These sorts of generative models form the basis of machine translation, image captioning, question answering and more.\n",
    "\n",
    "<img src=\"http://drive.google.com/uc?export=view&id=16E7HG_dCyfTo9u9qrrhp2eClq6xK6-f_\" style=\"width: 600px;\"/>"
   ]
  },
  {
   "cell_type": "markdown",
   "metadata": {
    "id": "6YQl92mwHNF6"
   },
   "source": [
    "### 1. Prepare data\n",
    "\n",
    "The file we are using is a plain text file. We turn any potential unicode characters into plain ASCII by using the `unidecode` package"
   ]
  },
  {
   "cell_type": "markdown",
   "metadata": {
    "id": "ymNU_-ZGHNF6"
   },
   "source": [
    "<img src=\"http://drive.google.com/uc?export=view&id=171lX3vxj60AQNScQi872BHx2Rz6J7-3J\" />"
   ]
  },
  {
   "cell_type": "code",
   "execution_count": 4,
   "metadata": {
    "colab": {
     "base_uri": "https://localhost:8080/"
    },
    "execution": {
     "iopub.execute_input": "2022-05-19T10:55:29.688331Z",
     "iopub.status.busy": "2022-05-19T10:55:29.688196Z",
     "iopub.status.idle": "2022-05-19T10:55:29.694740Z",
     "shell.execute_reply": "2022-05-19T10:55:29.694052Z",
     "shell.execute_reply.started": "2022-05-19T10:55:29.688316Z"
    },
    "executionInfo": {
     "elapsed": 43,
     "status": "ok",
     "timestamp": 1652870857219,
     "user": {
      "displayName": "김범준",
      "userId": "12824208135575122971"
     },
     "user_tz": -540
    },
    "id": "TFK9sT_1HNF6",
    "outputId": "0bee9a5a-1662-4d14-e824-746dca1d948e",
    "tags": []
   },
   "outputs": [
    {
     "name": "stdout",
     "output_type": "stream",
     "text": [
      "file_len = 4063\n"
     ]
    }
   ],
   "source": [
    "file = unidecode.unidecode(open('../dataset/lab11/lose_yourself_eminem.txt').read())\n",
    "file_len = len(file)\n",
    "print('file_len =', file_len)"
   ]
  },
  {
   "cell_type": "markdown",
   "metadata": {
    "id": "TUyRw-C2HNF6"
   },
   "source": [
    "To make inputs out of this big string of data, we will be splitting it into chunks."
   ]
  },
  {
   "cell_type": "code",
   "execution_count": 5,
   "metadata": {
    "colab": {
     "base_uri": "https://localhost:8080/"
    },
    "execution": {
     "iopub.execute_input": "2022-05-19T10:55:29.695849Z",
     "iopub.status.busy": "2022-05-19T10:55:29.695486Z",
     "iopub.status.idle": "2022-05-19T10:55:29.702527Z",
     "shell.execute_reply": "2022-05-19T10:55:29.701565Z",
     "shell.execute_reply.started": "2022-05-19T10:55:29.695833Z"
    },
    "executionInfo": {
     "elapsed": 39,
     "status": "ok",
     "timestamp": 1652870857220,
     "user": {
      "displayName": "김범준",
      "userId": "12824208135575122971"
     },
     "user_tz": -540
    },
    "id": "6nPqv8tuHNF7",
    "outputId": "41ec9899-69b5-4671-bd00-7b8e30f1f7de",
    "tags": []
   },
   "outputs": [
    {
     "name": "stdout",
     "output_type": "stream",
     "text": [
      " its gaping\n",
      "This world is mine for the taking\n",
      "Make me king, as we move toward a, new world order\n",
      "A normal life is borin', but super stardom's close to post mortar\n",
      "It only grows harder, only grows hotte\n"
     ]
    }
   ],
   "source": [
    "chunk_len = 200\n",
    "\n",
    "def random_chunk():\n",
    "    start_index = random.randint(0, file_len - chunk_len)\n",
    "    end_index = start_index + chunk_len + 1\n",
    "    return file[start_index:end_index]\n",
    "\n",
    "print(random_chunk())"
   ]
  },
  {
   "cell_type": "markdown",
   "metadata": {
    "id": "ScRzeDr8HNF9"
   },
   "source": [
    "Each chunk will be turned into a tensor by looping through the characters of the string and looking up the index of each character in `all_characters`."
   ]
  },
  {
   "cell_type": "code",
   "execution_count": 6,
   "metadata": {
    "colab": {
     "base_uri": "https://localhost:8080/"
    },
    "execution": {
     "iopub.execute_input": "2022-05-19T10:55:29.703576Z",
     "iopub.status.busy": "2022-05-19T10:55:29.703430Z",
     "iopub.status.idle": "2022-05-19T10:55:29.714792Z",
     "shell.execute_reply": "2022-05-19T10:55:29.714161Z",
     "shell.execute_reply.started": "2022-05-19T10:55:29.703560Z"
    },
    "executionInfo": {
     "elapsed": 36,
     "status": "ok",
     "timestamp": 1652870857221,
     "user": {
      "displayName": "김범준",
      "userId": "12824208135575122971"
     },
     "user_tz": -540
    },
    "id": "TylqhpuyHNF9",
    "outputId": "2b17eee1-628d-4846-fe9f-0f970de032eb",
    "tags": []
   },
   "outputs": [
    {
     "name": "stdout",
     "output_type": "stream",
     "text": [
      "0123456789abcdefghijklmnopqrstuvwxyzABCDEFGHIJKLMNOPQRSTUVWXYZ!\"#$%&'()*+,-./:;<=>?@[\\]^_`{|}~ \t\n",
      "\u000b\n",
      "\f\n",
      "\n",
      "abcDEF is changed to  tensor([10, 11, 12, 39, 40, 41])\n"
     ]
    }
   ],
   "source": [
    "# Turn string into list of longs\n",
    "all_characters = string.printable\n",
    "print(all_characters)\n",
    "\n",
    "def char_tensor(string):\n",
    "    tensor = torch.zeros(len(string)).long()\n",
    "    for c in range(len(string)):\n",
    "        tensor[c] = all_characters.index(string[c])\n",
    "    return Variable(tensor)\n",
    "\n",
    "print('abcDEF is changed to ', char_tensor('abcDEF'))"
   ]
  },
  {
   "cell_type": "markdown",
   "metadata": {
    "id": "b1XvIwnaHNF9"
   },
   "source": [
    "Finally we can assemble a pair of input and target tensors for training, from a random chunk. The input will be all characters *up to the last*, and the target will be all characters *from the first*. So if our chunk is \"abc\" the input will correspond to \"ab\" while the target is \"bc\"."
   ]
  },
  {
   "cell_type": "code",
   "execution_count": 7,
   "metadata": {
    "execution": {
     "iopub.execute_input": "2022-05-19T10:55:29.715835Z",
     "iopub.status.busy": "2022-05-19T10:55:29.715564Z",
     "iopub.status.idle": "2022-05-19T10:55:29.719508Z",
     "shell.execute_reply": "2022-05-19T10:55:29.718919Z",
     "shell.execute_reply.started": "2022-05-19T10:55:29.715814Z"
    },
    "executionInfo": {
     "elapsed": 16,
     "status": "ok",
     "timestamp": 1652870857222,
     "user": {
      "displayName": "김범준",
      "userId": "12824208135575122971"
     },
     "user_tz": -540
    },
    "id": "YfaPPbDMHNF-",
    "tags": []
   },
   "outputs": [],
   "source": [
    "def random_training_set():    \n",
    "    chunk = random_chunk()\n",
    "    inputs = char_tensor(chunk[:-1])\n",
    "    targets = char_tensor(chunk[1:])\n",
    "    return inputs, targets"
   ]
  },
  {
   "cell_type": "markdown",
   "metadata": {
    "id": "uaQ88mGNHNF-"
   },
   "source": [
    "### 2. Build the LSTM model [4 points]\n",
    "\n",
    "#### [Diagram of LSTM]\n",
    "<img src=\"http://drive.google.com/uc?export=view&id=1baQ6Ffu-vDcXbOEBYGeLzhmfvaj4DGgW\" style=\"width: 800px;\"/>\n",
    "LSTM consists of cell state, hidden state and 3 gates that modify or use the cell state. The cell state is the key part of the LSTM and you can think that information \"flows\" in there. The operation of 3 gates are described in below.\n",
    "\n",
    "#### [Forget Gate]\n",
    "<img src=\"http://drive.google.com/uc?export=view&id=1sJisl5P0hggmvH4qrcYgSETFKdFdBSH_\" style=\"width: 600px;\"/>\n",
    "The forget gate determines which information in the cell state should be erased.\n",
    "\n",
    "#### [Input Gate]\n",
    "First, the candidate cell state is created using the current input and the previous hidden state. And the input gate determines how much the candidate cell state is reflected to the cell state.\n",
    "<img src=\"http://drive.google.com/uc?export=view&id=1Df-k5FORGH7PnXauYcb8qqUpY3Uot9A7\" style=\"width: 600px;\"/>\n",
    "\n",
    "#### [Output Gate]\n",
    "<img src=\"http://drive.google.com/uc?export=view&id=1JLCGPcrZLOYfjyJhMTvmfixHq5plFj8L\" style=\"width: 600px;\"/>\n",
    "The output gate determines which elements should be extracted from the cell state to produce the output.\n",
    "\n",
    "<img src=\"http://drive.google.com/uc?export=view&id=1kGq8DwwzizuNcg6GF0GaP1DAu26FFlrB\" style=\"width: 300px;\"/>\n",
    "The above expression is summarized as follows,\n"
   ]
  },
  {
   "cell_type": "markdown",
   "metadata": {
    "id": "my4efNewHNF-"
   },
   "source": [
    "This model will take as input the character for step $t_{-1}$ and is expected to output the next character $t$. There are three layers - one linear layer that encodes the input character into an internal state, one LSTM layer that operates on that internal state and a hidden state, and a decoder layer that outputs the probability distribution."
   ]
  },
  {
   "cell_type": "code",
   "execution_count": 8,
   "metadata": {
    "colab": {
     "base_uri": "https://localhost:8080/"
    },
    "execution": {
     "iopub.execute_input": "2022-05-19T10:55:29.720712Z",
     "iopub.status.busy": "2022-05-19T10:55:29.720274Z",
     "iopub.status.idle": "2022-05-19T10:55:33.134793Z",
     "shell.execute_reply": "2022-05-19T10:55:33.133575Z",
     "shell.execute_reply.started": "2022-05-19T10:55:29.720693Z"
    },
    "executionInfo": {
     "elapsed": 7,
     "status": "ok",
     "timestamp": 1652873650289,
     "user": {
      "displayName": "김범준",
      "userId": "12824208135575122971"
     },
     "user_tz": -540
    },
    "id": "nDOFfcpsHNF-",
    "outputId": "70732b53-2d61-4a96-c6b5-49bd198c7af4",
    "tags": []
   },
   "outputs": [
    {
     "data": {
      "text/plain": [
       "LSTMModel(\n",
       "  (encoder): Embedding(100, 100)\n",
       "  (w_x): Linear(in_features=100, out_features=400, bias=True)\n",
       "  (w_h): Linear(in_features=100, out_features=400, bias=True)\n",
       "  (tanh): Tanh()\n",
       "  (sigmoid): Sigmoid()\n",
       "  (decoder): Linear(in_features=100, out_features=100, bias=True)\n",
       ")"
      ]
     },
     "execution_count": 8,
     "metadata": {},
     "output_type": "execute_result"
    }
   ],
   "source": [
    "\n",
    "\n",
    "class LSTMModel(nn.Module):\n",
    "    def __init__(self, input_dim, hidden_dim, layer_dim, output_dim):\n",
    "        super(LSTMModel, self).__init__()\n",
    "        \n",
    "        self.input_dim = input_dim\n",
    "        self.hidden_dim = hidden_dim\n",
    "        self.layer_dim = layer_dim \n",
    "        self.output_dim = output_dim\n",
    "        \n",
    "        self.encoder = nn.Embedding(input_dim, hidden_dim) # input_dim(세로) * hidden_dim(까로)의 구조가됨.  \n",
    "        \n",
    "        # lstm\n",
    "        # The size of input is (batch_size, seq_dim, hidden_dim)\n",
    "        #############\n",
    "        self.w_x = nn.Linear(hidden_dim, 4*hidden_dim, bias=True)\n",
    "        self.w_h = nn.Linear(hidden_dim, 4*hidden_dim, bias=True)\n",
    "        \n",
    "        self.tanh = nn.Tanh()\n",
    "        self.sigmoid = nn.Sigmoid()\n",
    "        #############\n",
    "        \n",
    "        self.decoder = nn.Linear(hidden_dim, output_dim)\n",
    "        \n",
    "        \n",
    "    \n",
    "    def forward(self, input, hn, cn):\n",
    "        #############\n",
    "        input = input.unsqueeze(0).unsqueeze(0)\n",
    "        input = self.encoder(input)\n",
    "        \n",
    "        gates = self.w_x(input) + self.w_h(hn)\n",
    "        # i, f, o, g = gates.chunk(4, dim=2)\n",
    "        gates = gates.squeeze()\n",
    "        i, f, o, g = gates.chunk(4)\n",
    "        i = i.unsqueeze(0).unsqueeze(0)\n",
    "        f = f.unsqueeze(0).unsqueeze(0)\n",
    "        o = o.unsqueeze(0).unsqueeze(0)\n",
    "        g = g.unsqueeze(0).unsqueeze(0)\n",
    "        \n",
    "        i = self.sigmoid(i)\n",
    "        f = self.sigmoid(f)\n",
    "        o = self.sigmoid(o)\n",
    "        g = self.tanh(g)\n",
    "         \n",
    "        cn = cn*f + i*g\n",
    "        hn = o*self.tanh(cn)\n",
    "        out = self.decoder(hn)\n",
    "        #############\n",
    "        return out, hn, cn\n",
    "\n",
    "    def init_hidden(self):\n",
    "        # The size of h0, c0 should be (layer_dim, batch_size, hidden_dim)\n",
    "        #############\n",
    "        h0 = torch.zeros(self.layer_dim,1,self.hidden_dim).cuda()    \n",
    "        c0 = torch.zeros(self.layer_dim,1,self.hidden_dim).cuda()\n",
    "        #############\n",
    "        return h0, c0\n",
    "    \n",
    "hidden_dim = 100\n",
    "n_layers = 1\n",
    "n_characters = len(all_characters) #100\n",
    "\n",
    "model = LSTMModel(n_characters, hidden_dim, n_layers, n_characters)\n",
    "model.cuda()"
   ]
  },
  {
   "cell_type": "markdown",
   "metadata": {
    "id": "2qajoki2HNF_"
   },
   "source": [
    "### 3. Loss function and optimizer"
   ]
  },
  {
   "cell_type": "code",
   "execution_count": 9,
   "metadata": {
    "execution": {
     "iopub.execute_input": "2022-05-19T10:55:33.136171Z",
     "iopub.status.busy": "2022-05-19T10:55:33.135833Z",
     "iopub.status.idle": "2022-05-19T10:55:33.140474Z",
     "shell.execute_reply": "2022-05-19T10:55:33.139659Z",
     "shell.execute_reply.started": "2022-05-19T10:55:33.136150Z"
    },
    "executionInfo": {
     "elapsed": 3,
     "status": "ok",
     "timestamp": 1652873650622,
     "user": {
      "displayName": "김범준",
      "userId": "12824208135575122971"
     },
     "user_tz": -540
    },
    "id": "xvm-picHHNF_",
    "tags": []
   },
   "outputs": [],
   "source": [
    "criterion = nn.CrossEntropyLoss()\n",
    "\n",
    "lr = 0.005\n",
    "optimizer = torch.optim.Adam(model.parameters(), lr=lr)"
   ]
  },
  {
   "cell_type": "markdown",
   "metadata": {
    "id": "5haXxzwOHNF_"
   },
   "source": [
    "### 4 . Write the character level generation code [4 points]\n",
    "\n",
    "- Generate a sentence with a length of $predict\\_len$, starting from a single character $prime\\_str$.\n",
    "- Example) evaluate(prime_str='Y', predict_len=20) -> You better let it go"
   ]
  },
  {
   "cell_type": "code",
   "execution_count": 10,
   "metadata": {
    "execution": {
     "iopub.execute_input": "2022-05-19T10:55:33.142504Z",
     "iopub.status.busy": "2022-05-19T10:55:33.142238Z",
     "iopub.status.idle": "2022-05-19T10:55:33.147579Z",
     "shell.execute_reply": "2022-05-19T10:55:33.146531Z",
     "shell.execute_reply.started": "2022-05-19T10:55:33.142487Z"
    },
    "executionInfo": {
     "elapsed": 4,
     "status": "ok",
     "timestamp": 1652873650888,
     "user": {
      "displayName": "김범준",
      "userId": "12824208135575122971"
     },
     "user_tz": -540
    },
    "id": "JKkMfsh1HNF_",
    "tags": []
   },
   "outputs": [],
   "source": [
    "def evaluate(prime_str = 'W', predict_len = 100):\n",
    "    # suppose prime_str is a single character\n",
    "    # and use greedy search to predict the next character\n",
    "\n",
    "    hn, cn = model.init_hidden()\n",
    "    predicted = str()\n",
    "    x = char_tensor(prime_str).cuda()\n",
    "    print(prime_str, end=\"\")\n",
    "    for i in range(predict_len):\n",
    "        #############\n",
    "        output, hn, cn = model(x, hn, cn)\n",
    "        output = output.data.view(-1).exp()    # to positive number\n",
    "        _, top_i = torch.topk(output, 1)\n",
    "\n",
    "        predicted = all_characters[top_i[0]]\n",
    "        print(predicted, end=\"\")\n",
    "        x = char_tensor(predicted).cuda()\n",
    "        #############\n",
    "\n",
    "    return predicted"
   ]
  },
  {
   "cell_type": "markdown",
   "metadata": {
    "id": "vt4VFJd5HNF_"
   },
   "source": [
    "### 5 . Write the code to train the model [2 points]\n",
    "\n",
    "- Plot the training loss curve.\n",
    "- Print the output sentence with a length of 100, using $evaluate()$ function."
   ]
  },
  {
   "cell_type": "code",
   "execution_count": 11,
   "metadata": {
    "colab": {
     "base_uri": "https://localhost:8080/",
     "height": 1000
    },
    "execution": {
     "iopub.execute_input": "2022-05-19T10:55:33.148513Z",
     "iopub.status.busy": "2022-05-19T10:55:33.148267Z",
     "iopub.status.idle": "2022-05-19T11:01:11.109425Z",
     "shell.execute_reply": "2022-05-19T11:01:11.108828Z",
     "shell.execute_reply.started": "2022-05-19T10:55:33.148495Z"
    },
    "executionInfo": {
     "elapsed": 491362,
     "status": "ok",
     "timestamp": 1652874142528,
     "user": {
      "displayName": "김범준",
      "userId": "12824208135575122971"
     },
     "user_tz": -540
    },
    "id": "LC0xsnlRHNF_",
    "outputId": "edfcb814-372c-427e-b450-25caae3fd121",
    "scrolled": true,
    "tags": []
   },
   "outputs": [
    {
     "name": "stdout",
     "output_type": "stream",
     "text": [
      "************************* epoch100 *************************\n",
      "loss 274.2998\n",
      "I better better momes once the momes once the momes once the momes once the momes once the momes oncee \n",
      "\n",
      "************************* epoch200 *************************\n",
      "loss 413.1035\n",
      "I the moment in the moment in the moment in the moment in the moment in the moment in the moment in tt \n",
      "\n",
      "************************* epoch300 *************************\n",
      "loss 137.2446\n",
      "I better never let it go\n",
      "You only get in the moment\n",
      "You only get in the moment\n",
      "You only get in the moo \n",
      "\n",
      "************************* epoch400 *************************\n",
      "loss 271.6014\n",
      "It only get one shot, do not miss your chance to blow\n",
      "This opportunity comes once in the moment\n",
      "You oo \n",
      "\n",
      "************************* epoch500 *************************\n",
      "loss 183.6550\n",
      "It only get one shot, do not miss your chance to blow\n",
      "This opportunity comes once in a lifetime you bb \n",
      "\n",
      "************************* epoch600 *************************\n",
      "loss 129.8006\n",
      "It you better\n",
      "No more these the moment one shot, do not miss your chance to blow\n",
      "This opportunity comm \n",
      "\n",
      "************************* epoch700 *************************\n",
      "loss 124.7250\n",
      "I bekin' the music, the moment\n",
      "You own it, you better lose yourself in the music, the moment\n",
      "You own   \n",
      "\n",
      "************************* epoch800 *************************\n",
      "loss 144.3932\n",
      "I beent een inge and shot, do not miss your chance to blow\n",
      "This opportunity comes once in a lifetime   \n",
      "\n",
      "************************* epoch900 *************************\n",
      "loss 104.7760\n",
      "I better never let it go\n",
      "You only get one shot, do not miss your chance to blow\n",
      "This opportunity comee \n",
      "\n",
      "************************* epoch1000 *************************\n",
      "loss 75.3148\n",
      "I beat goes you better\n",
      "You better lose yourself in the music, the moment\n",
      "You own it, you better neverr \n",
      "\n",
      "************************* epoch1100 *************************\n",
      "loss 93.5743\n",
      "It grow on fore heavy\n",
      "There's vomit on his sweater already, mom's spaghetti\n",
      "He's nervous, but on the   \n",
      "\n",
      "************************* epoch1200 *************************\n",
      "loss 25.8878\n",
      "It go the surface he looks calm and ready\n",
      "To drop bombs, but the beat goes on\n",
      "Da da dumb da dumb da dd \n",
      "\n",
      "************************* epoch1300 *************************\n",
      "loss 61.5979\n",
      "It grows hater already, mom's spaghetti\n",
      "He's nervous, but the beat goes on\n",
      "Da da dumb da dumb da dumbb \n",
      "\n",
      "************************* epoch1400 *************************\n",
      "loss 14.9235\n",
      "It grow better never grow ase he weive but the beat go thes whole crowd goes so hard\n",
      "And it's gettingg \n",
      "\n",
      "************************* epoch1500 *************************\n",
      "loss 28.0981\n",
      "It go the point, I'm like a snail I've got\n",
      "To formulate a plot fore I end up in jail or shot\n",
      "Success   \n",
      "\n",
      "************************* epoch1600 *************************\n",
      "loss 54.5085\n",
      "It grow old in Salem's lot\n",
      "So here I go is my shot\n",
      "Feet fail me not 'cause maybe the only opportunityy \n",
      "\n",
      "************************* epoch1700 *************************\n",
      "loss 14.6363\n",
      "It go there goes gravity\n",
      "Oh, there goes gravity\n",
      "Oh, there goes gravity\n",
      "Oh, there goes gravity\n",
      "Oh, thee \n",
      "\n",
      "************************* epoch1800 *************************\n",
      "loss 33.8929\n",
      "It grow old in Salem's lot\n",
      "So here I go is my shot\n",
      "Feet fail me not 'cause man, these God damn food ss \n",
      "\n",
      "************************* epoch1900 *************************\n",
      "loss 15.6008\n",
      "It go is my only motherfuckin' option, failures not\n",
      "Mom, I love you, but the words won't come out\n",
      "He'' \n",
      "\n",
      "************************* epoch2000 *************************\n",
      "loss 53.1740\n",
      "It grow old in Salem's lot\n",
      "So here I go is my shot\n",
      "Feet fail me not 'cause maybe the only opportunityy \n",
      "\n"
     ]
    },
    {
     "data": {
      "text/plain": [
       "[<matplotlib.lines.Line2D at 0x7f9dc0cf1370>]"
      ]
     },
     "execution_count": 11,
     "metadata": {},
     "output_type": "execute_result"
    },
    {
     "data": {
      "image/png": "[encoded data removed]",
      "text/plain": [
       "<Figure size 432x288 with 1 Axes>"
      ]
     },
     "metadata": {
      "needs_background": "light"
     },
     "output_type": "display_data"
    }
   ],
   "source": [
    "n_epochs = 2000\n",
    "print_every = 100\n",
    "plot_every = 10\n",
    "\n",
    "all_losses = []\n",
    "loss_avg = 0\n",
    "\n",
    "for epoch in range(1, n_epochs + 1):\n",
    "    #############\n",
    "    hn, cn = model.init_hidden()\n",
    "    #############\n",
    "    # Load text\n",
    "    inputs, targets = random_training_set()\n",
    "    if inputs.size()[0] < 200: continue\n",
    "    inputs = inputs.cuda()\n",
    "    targets = targets.cuda()\n",
    "    # Clear gradients w.r.t. parameters\n",
    "    #############\n",
    "    model.zero_grad()\n",
    "    optimizer.zero_grad()\n",
    "    #############\n",
    "    # Forward pass\n",
    "    loss = 0\n",
    "    #############\n",
    "    for i in range(chunk_len-1):\n",
    "        x = inputs[i]\n",
    "        target = targets[i].unsqueeze(0).type(torch.LongTensor).cuda()\n",
    " \n",
    "        pred, hn, cn = model(x, hn, cn)\n",
    "        pred = torch.squeeze(pred, 0)\n",
    "        loss += criterion(pred, target)\n",
    "    #############\n",
    "    # Backward pass\n",
    "    #############\n",
    "    loss.backward()\n",
    "    #############\n",
    "    # Updating parameters\n",
    "    #############\n",
    "    optimizer.step()\n",
    "    #############\n",
    "    loss_avg += loss.item() / chunk_len\n",
    "\n",
    "    if epoch % print_every == 0:\n",
    "        print('*'*25, 'epoch%d'%epoch, '*'*25)\n",
    "        print('loss %.4f'%loss.item())\n",
    "        print(evaluate('I', 100), '\\n')\n",
    "\n",
    "    if epoch % plot_every == 0:\n",
    "        all_losses.append(loss_avg / plot_every)\n",
    "        loss_avg = 0\n",
    "\n",
    "#################################################\n",
    "import matplotlib.pyplot as plt\n",
    "%matplotlib inline\n",
    "\n",
    "plt.figure()\n",
    "plt.plot(all_losses)"
   ]
  },
  {
   "cell_type": "markdown",
   "metadata": {
    "id": "XCGRgEuZHNF_"
   },
   "source": [
    "### *References*\n",
    "[1] [practical pytorch](https://github.com/spro/practical-pytorch)(https://github.com/spro/practical-pytorch)\n",
    "\n",
    "[2] [CS 231n](http://cs231n.stanford.edu/syllabus.html)(http://cs231n.stanford.edu/syllabus.html)"
   ]
  },
  {
   "cell_type": "markdown",
   "metadata": {
    "executionInfo": {
     "elapsed": 8,
     "status": "aborted",
     "timestamp": 1652872006897,
     "user": {
      "displayName": "김범준",
      "userId": "12824208135575122971"
     },
     "user_tz": -540
    },
    "id": "UwALc2sp0zBs"
   },
   "source": [
    "주관적으로 느끼기에 epoch가 400-500 번째부터 문장을 읽기가 수월하였기에, 모델이 다음 단어를 잘 예측하는 것을 확인할 수 있다.\n",
    "plot에서 약 1500 번째이후 수렴을 하는 것을 볼 수 있는데, 아래 1000 epoch의 train을 더 진행한 결과 모델의 성능이 더 올라가지 않는 것을 확인하였다.\n",
    "\n",
    "RNN과 LSTM모두 2000년대 이전의 모델로, 상대적으로 최근에 연구된 딥러닝을 기반으로한 Language model의 성능과 활용도가 매우 기대되는 실험였다.\n",
    "\n",
    "\n",
    "\n",
    "\n",
    "+)\n",
    "모델에 주석으로 처리된 # i, f, o, g = gates.chunk(4, dim=2) 부분으로 동작하였을 때 train의 evaluation에서 error가 발생하였는데 이유를 아신다면 피드백 남겨주시면 감사합니다!!\n"
   ]
  },
  {
   "cell_type": "code",
   "execution_count": 12,
   "metadata": {
    "execution": {
     "iopub.execute_input": "2022-05-19T11:27:06.161494Z",
     "iopub.status.busy": "2022-05-19T11:27:06.161002Z",
     "iopub.status.idle": "2022-05-19T11:29:52.923036Z",
     "shell.execute_reply": "2022-05-19T11:29:52.922343Z",
     "shell.execute_reply.started": "2022-05-19T11:27:06.161444Z"
    }
   },
   "outputs": [
    {
     "name": "stdout",
     "output_type": "stream",
     "text": [
      "************************* epoch100 *************************\n",
      "loss 7.0742\n",
      "It go is my life and these times are so hard\n",
      "And it's getting even harder tryin' to feed and water myy \n",
      "\n",
      "************************* epoch200 *************************\n",
      "loss 22.0119\n",
      "I cant to say in one spot, another jam or not\n",
      "Has gotten me to the point, I'm like a snail I've got\n",
      "TT \n",
      "\n",
      "************************* epoch300 *************************\n",
      "loss 20.0738\n",
      "I loked on his mouth, but the words won't come out\n",
      "He's chokin', how, everybody's jokin' now\n",
      "The clocc \n",
      "\n",
      "************************* epoch400 *************************\n",
      "loss 46.4518\n",
      "I't buy diapers\n",
      "And its no movie, there's no Mekhi Phifer\n",
      "This is my life and these times are so hardd \n",
      "\n",
      "************************* epoch500 *************************\n",
      "loss 22.8574\n",
      "I's cold water\n",
      "His hoes don't want him no mo, he's cold product\n",
      "They moved on to the next schmo who ff \n",
      "\n",
      "************************* epoch600 *************************\n",
      "loss 17.4883\n",
      "I's cold product\n",
      "They moved on to the next schmo who flows, he nose dove and sold nada\n",
      "So the soap opp \n",
      "\n",
      "************************* epoch700 *************************\n",
      "loss 16.0946\n",
      "I't love you, but this trail has got to go, I cannot grows harder, only grows harder, only grows hardd \n",
      "\n",
      "************************* epoch800 *************************\n",
      "loss 39.1956\n",
      "I't grown farther from home, he's no father\n",
      "He goes home and barely knows his own daughter\n",
      "But hold yy \n",
      "\n",
      "************************* epoch900 *************************\n",
      "loss 22.4116\n",
      "I's cold product\n",
      "They moved on to the next schmo who flows, he nose dove and sold nada\n",
      "So the soap opp \n",
      "\n",
      "************************* epoch1000 *************************\n",
      "loss 16.9316\n",
      "I's grown forther tryim no mo, he's cold product\n",
      "They moved on to the next schmo who flows, he nose dd \n",
      "\n"
     ]
    },
    {
     "data": {
      "text/plain": [
       "[<matplotlib.lines.Line2D at 0x7f9dc0bec880>]"
      ]
     },
     "execution_count": 12,
     "metadata": {},
     "output_type": "execute_result"
    },
    {
     "data": {
      "image/png": "[encoded data removed]",
      "text/plain": [
       "<Figure size 432x288 with 1 Axes>"
      ]
     },
     "metadata": {
      "needs_background": "light"
     },
     "output_type": "display_data"
    }
   ],
   "source": [
    "n_epochs = 1000\n",
    "print_every = 100\n",
    "plot_every = 10\n",
    "\n",
    "all_losses = []\n",
    "loss_avg = 0\n",
    "\n",
    "for epoch in range(1, n_epochs + 1):\n",
    "    #############\n",
    "    hn, cn = model.init_hidden()\n",
    "    #############\n",
    "    # Load text\n",
    "    inputs, targets = random_training_set()\n",
    "    if inputs.size()[0] < 200: continue\n",
    "    inputs = inputs.cuda()\n",
    "    targets = targets.cuda()\n",
    "    # Clear gradients w.r.t. parameters\n",
    "    #############\n",
    "    model.zero_grad()\n",
    "    optimizer.zero_grad()\n",
    "    #############\n",
    "    # Forward pass\n",
    "    loss = 0\n",
    "    #############\n",
    "    for i in range(chunk_len-1):\n",
    "        x = inputs[i]\n",
    "        target = targets[i].unsqueeze(0).type(torch.LongTensor).cuda()\n",
    " \n",
    "        pred, hn, cn = model(x, hn, cn)\n",
    "        pred = torch.squeeze(pred, 0)\n",
    "        loss += criterion(pred, target)\n",
    "    #############\n",
    "    # Backward pass\n",
    "    #############\n",
    "    loss.backward()\n",
    "    #############\n",
    "    # Updating parameters\n",
    "    #############\n",
    "    optimizer.step()\n",
    "    #############\n",
    "    loss_avg += loss.item() / chunk_len\n",
    "\n",
    "    if epoch % print_every == 0:\n",
    "        print('*'*25, 'epoch%d'%epoch, '*'*25)\n",
    "        print('loss %.4f'%loss.item())\n",
    "        print(evaluate('I', 100), '\\n')\n",
    "\n",
    "    if epoch % plot_every == 0:\n",
    "        all_losses.append(loss_avg / plot_every)\n",
    "        loss_avg = 0\n",
    "\n",
    "#################################################\n",
    "import matplotlib.pyplot as plt\n",
    "%matplotlib inline\n",
    "\n",
    "plt.figure()\n",
    "plt.plot(all_losses)"
   ]
  },
  {
   "cell_type": "code",
   "execution_count": null,
   "metadata": {},
   "outputs": [],
   "source": []
  }
 ],
 "metadata": {
  "accelerator": "GPU",
  "colab": {
   "collapsed_sections": [],
   "name": "2017142057_김범준_Lab11.ipynb",
   "provenance": []
  },
  "kernelspec": {
   "display_name": "torch1.9.0-py3.8-cuda11.1",
   "language": "python",
   "name": "torch1.9.0-py3.8-cuda11.1"
  },
  "language_info": {
   "codemirror_mode": {
    "name": "ipython",
    "version": 3
   },
   "file_extension": ".py",
   "mimetype": "text/x-python",
   "name": "python",
   "nbconvert_exporter": "python",
   "pygments_lexer": "ipython3",
   "version": "3.8.10"
  }
 },
 "nbformat": 4,
 "nbformat_minor": 4
}
